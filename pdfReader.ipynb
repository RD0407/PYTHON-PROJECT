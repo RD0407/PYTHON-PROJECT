{
  "metadata": {
    "kernelspec": {
      "name": "xpython",
      "display_name": "Python 3.13 (XPython)",
      "language": "python"
    },
    "language_info": {
      "file_extension": ".py",
      "mimetype": "text/x-python",
      "name": "python",
      "version": "3.13.1"
    }
  },
  "nbformat_minor": 5,
  "nbformat": 4,
  "cells": [
    {
      "id": "3f892c0b-9bbe-4c6b-ad83-62ca4f8cde55",
      "cell_type": "code",
      "source": "import hashlib\nimport os\n\n# Print the size of each file in bytes (quick check if files are at least the same size)\nprint(\"pdf1.pdf:\", os.path.getsize(\"pdf1.pdf\"))\nprint(\"pdf2.pdf:\", os.path.getsize(\"pdf2.pdf\"))\n\nprint(\"pdf2.pdf:\", os.path.getsize(\"pdf3.pdf\"))\n\n# h1 and h2 will store the hash for fileName1 and fileName2\ndef hash_file(fileName1, fileName2):\n    h1 = hashlib.sha1()\n    h2 = hashlib.sha1()\n\n#Open the first file in binary mode (\"rb\").\n#Reads it in chunks of 1024 bytes (to avoid loading a huge file all at once).\n#For each chunk, it updates the hash.\n#Continues until no data is left.\n    \n    with open(fileName1, \"rb\") as file:\n        chunk = file.read(1024)\n        while chunk:\n            h1.update(chunk)\n            chunk = file.read(1024)\n            \n    with open(fileName2, \"rb\") as file:\n        chunk = file.read(1024)\n        while chunk:\n            h2.update(chunk)\n            chunk = file.read(1024)\n\n    return h1.hexdigest(), h2.hexdigest()\n\n#Calls the function to get hashes for pdf1.pdf and pdf2.pdf.\n#Prints the hash values.\n#Compares them. If they're the same, the files are byte-for-byte identical.\nmsg1, msg2 = hash_file(\"pdf1.pdf\", \"pdf2.pdf\")\nprint(\"Hash 1:\", msg1)\nprint(\"Hash 2:\", msg2)\nprint(\"Are identical?\", msg1 == msg2)\n\nif msg1 != msg2:\n    print(\"These files are not identical\")\nelse:\n    print(\"These files are identical\")\n",
      "metadata": {
        "trusted": true
      },
      "outputs": [
        {
          "name": "stdout",
          "output_type": "stream",
          "text": "pdf1.pdf: 8145\npdf2.pdf: 8145\npdf2.pdf: 8605\nHash 1: 51f1d44595c14f673a29b4df4b4a1bfd73eb67dd\nHash 2: acbb4fccd887da469430c514ac57f28ddce79a52\nAre identical? False\nThese files are not identical\n"
        }
      ],
      "execution_count": 12
    },
    {
      "id": "9c724fd6-c812-466c-86e2-09613c3e3179",
      "cell_type": "code",
      "source": "",
      "metadata": {
        "trusted": true
      },
      "outputs": [],
      "execution_count": null
    }
  ]
}