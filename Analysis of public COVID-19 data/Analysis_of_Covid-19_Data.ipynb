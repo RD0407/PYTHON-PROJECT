{
 "cells": [
  {
   "cell_type": "markdown",
   "metadata": {},
   "source": [
    "# Project 1 - COVID-19 Data Analysis"
   ] 
  },
  {
   "cell_type": "markdown",
   "metadata": {},
   "source": [
    "**Project deadline:** This project is due for submission on Monday, 25.05.2020. You receive details on the submission process from your tutor!"
   ]
  },
  {
   "cell_type": "markdown",
   "metadata": {},
   "source": [
    "**PLEASE READ THIS NOTEBOOK COMPLETELY BEFORE YOU START TO WORK ON THE PROJECT!**"
   ]
  },
  {
   "cell_type": "markdown",
   "metadata": {},
   "source": [
    "## About the Projects\n",
    "- You will get one project approximately every other week.\n",
    "- Besides the homework-assignmentts, you need to solve the projects in order to pass the course. Your final course mark consists of the mean of your project marks. We aim to hand-out six projects during the term and we do not consider the worst project mark for your final course mark. Projects that you do not hand in are counted with a mark of 4.\n",
    "- The projects need to be submitted to your tutor and he will give you necessary information on the submission process!\n",
    "- **In contrast to the homework exercises, each student must hand in an own solution for the projects! Of course you can and should discuss problems with each other! However, you must not use code or code-parts from your student peers in your project solutions!**\n",
    "\n",
    "**Note: The tutors, Oliver and I are very happy to help you out with difficulties you might have with the project tasks! You can ask questions any time but please do so well in advance of the deadlines!**"
   ]
  },
  {
   "cell_type": "markdown",
   "metadata": {},
   "source": [
    "## Analysis of public COVID-19 data"
   ]
  },
  {
   "cell_type": "markdown",
   "metadata": {},
   "source": [
    "In this first project, we would like to demonstrate that you can do advanced data analysis already with your current knowledge and with just a few lines of `Python`-code. Nevertheless the notebook contains some more advanced technical aspects to load data from the WWW and to prepare them for further analysis. Please do not worry if you do not fully understand all details of that part right now. We will cover those aspects later in the term.\n",
    "\n",
    "We will do this project with a topic concerning all of us the moment, the COVID-19 pandemy. We will download publicly available data with a daily listing of new (known!) COVID-19 cases and new deaths due to the pandemy. The data set contains information on *all* countries with known COVID-19 cases. Your task will be to analyse the development of the pandemy and to check which countries currently do have a raising number of infectious COVID-19 patients.\n",
    "\n",
    "The data that we will use in this notebook are daily updated and published by the [European Centre for Disease Prevention and Control](https://www.ecdc.europa.eu/en/publications-data/download-todays-data-geographic-distribution-covid-19-cases-worldwide)."
   ]
  },
  {
   "cell_type": "code",
   "execution_count": 239,
   "metadata": {},
   "outputs": [],
   "source": [
    "# We need some modules (Python libraries) in the following.\n",
    "# Usually, such modules are loaded in the first cell of a notebook.\n",
    "# The modules that we need concern loading the data and plotting\n",
    "# them later.\n",
    "\n",
    "# all plots should appear directly within the notebook\n",
    "%matplotlib inline\n",
    "\n",
    "# modules necessary for plotting\n",
    "import matplotlib.pyplot as plt\n",
    "\n",
    "# seaborn just makes plots look a bit nicer - not\n",
    "# absolutely necessary though.\n",
    "import seaborn as sns\n",
    "sns.set_style(\"whitegrid\")\n",
    "\n",
    "# modules to load the data. The Pandas module\n",
    "# is just needed for a quick data-loading demonstration at the\n",
    "# start of the Notebook. The corona_data module is self-made\n",
    "# to comfortably load and administrate the COVID-19 data.\n",
    "# To work correctly, a file named 'corona_data.py' must be\n",
    "# in the same directory as this notebook file!\n",
    "import pandas as pd\n",
    "import corona_data\n",
    "\n",
    "# module to make avilable data structures and routines\n",
    "# for numerics\n",
    "import numpy as np"
   ]
  },
  {
   "cell_type": "markdown",
   "metadata": {},
   "source": [
    "## Loading data"
   ]
  },
  {
   "cell_type": "markdown",
   "metadata": {},
   "source": [
    "### Data-loading demo with standard Python-modules"
   ]
  },
  {
   "cell_type": "markdown",
   "metadata": {},
   "source": [
    "One great feature of `Python` is the ability to load all kinds of standardised data-formats into memory - in most cases with a single command. The data can be located on your disk or on the Web. In the following, we directly load data from [this Web-address](https://opendata.ecdc.europa.eu/covid19/casedistribution/csv) (no need to separately download them)."
   ]
  },
  {
   "cell_type": "code",
   "execution_count": 240,
   "metadata": {},
   "outputs": [
    {
     "data": {
      "text/html": [
       "<div>\n",
       "<style scoped>\n",
       "    .dataframe tbody tr th:only-of-type {\n",
       "        vertical-align: middle;\n",
       "    }\n",
       "\n",
       "    .dataframe tbody tr th {\n",
       "        vertical-align: top;\n",
       "    }\n",
       "\n",
       "    .dataframe thead th {\n",
       "        text-align: right;\n",
       "    }\n",
       "</style>\n",
       "<table border=\"1\" class=\"dataframe\">\n",
       "  <thead>\n",
       "    <tr style=\"text-align: right;\">\n",
       "      <th></th>\n",
       "      <th>dateRep</th>\n",
       "      <th>day</th>\n",
       "      <th>month</th>\n",
       "      <th>year</th>\n",
       "      <th>cases</th>\n",
       "      <th>deaths</th>\n",
       "      <th>countriesAndTerritories</th>\n",
       "      <th>geoId</th>\n",
       "      <th>countryterritoryCode</th>\n",
       "      <th>popData2018</th>\n",
       "      <th>continentExp</th>\n",
       "    </tr>\n",
       "  </thead>\n",
       "  <tbody>\n",
       "    <tr>\n",
       "      <th>0</th>\n",
       "      <td>25/05/2020</td>\n",
       "      <td>25</td>\n",
       "      <td>5</td>\n",
       "      <td>2020</td>\n",
       "      <td>584</td>\n",
       "      <td>2</td>\n",
       "      <td>Afghanistan</td>\n",
       "      <td>AF</td>\n",
       "      <td>AFG</td>\n",
       "      <td>37172386.0</td>\n",
       "      <td>Asia</td>\n",
       "    </tr>\n",
       "    <tr>\n",
       "      <th>1</th>\n",
       "      <td>24/05/2020</td>\n",
       "      <td>24</td>\n",
       "      <td>5</td>\n",
       "      <td>2020</td>\n",
       "      <td>782</td>\n",
       "      <td>11</td>\n",
       "      <td>Afghanistan</td>\n",
       "      <td>AF</td>\n",
       "      <td>AFG</td>\n",
       "      <td>37172386.0</td>\n",
       "      <td>Asia</td>\n",
       "    </tr>\n",
       "    <tr>\n",
       "      <th>2</th>\n",
       "      <td>23/05/2020</td>\n",
       "      <td>23</td>\n",
       "      <td>5</td>\n",
       "      <td>2020</td>\n",
       "      <td>540</td>\n",
       "      <td>12</td>\n",
       "      <td>Afghanistan</td>\n",
       "      <td>AF</td>\n",
       "      <td>AFG</td>\n",
       "      <td>37172386.0</td>\n",
       "      <td>Asia</td>\n",
       "    </tr>\n",
       "    <tr>\n",
       "      <th>3</th>\n",
       "      <td>22/05/2020</td>\n",
       "      <td>22</td>\n",
       "      <td>5</td>\n",
       "      <td>2020</td>\n",
       "      <td>531</td>\n",
       "      <td>6</td>\n",
       "      <td>Afghanistan</td>\n",
       "      <td>AF</td>\n",
       "      <td>AFG</td>\n",
       "      <td>37172386.0</td>\n",
       "      <td>Asia</td>\n",
       "    </tr>\n",
       "    <tr>\n",
       "      <th>4</th>\n",
       "      <td>21/05/2020</td>\n",
       "      <td>21</td>\n",
       "      <td>5</td>\n",
       "      <td>2020</td>\n",
       "      <td>492</td>\n",
       "      <td>9</td>\n",
       "      <td>Afghanistan</td>\n",
       "      <td>AF</td>\n",
       "      <td>AFG</td>\n",
       "      <td>37172386.0</td>\n",
       "      <td>Asia</td>\n",
       "    </tr>\n",
       "    <tr>\n",
       "      <th>...</th>\n",
       "      <td>...</td>\n",
       "      <td>...</td>\n",
       "      <td>...</td>\n",
       "      <td>...</td>\n",
       "      <td>...</td>\n",
       "      <td>...</td>\n",
       "      <td>...</td>\n",
       "      <td>...</td>\n",
       "      <td>...</td>\n",
       "      <td>...</td>\n",
       "      <td>...</td>\n",
       "    </tr>\n",
       "    <tr>\n",
       "      <th>19243</th>\n",
       "      <td>25/03/2020</td>\n",
       "      <td>25</td>\n",
       "      <td>3</td>\n",
       "      <td>2020</td>\n",
       "      <td>0</td>\n",
       "      <td>0</td>\n",
       "      <td>Zimbabwe</td>\n",
       "      <td>ZW</td>\n",
       "      <td>ZWE</td>\n",
       "      <td>14439018.0</td>\n",
       "      <td>Africa</td>\n",
       "    </tr>\n",
       "    <tr>\n",
       "      <th>19244</th>\n",
       "      <td>24/03/2020</td>\n",
       "      <td>24</td>\n",
       "      <td>3</td>\n",
       "      <td>2020</td>\n",
       "      <td>0</td>\n",
       "      <td>1</td>\n",
       "      <td>Zimbabwe</td>\n",
       "      <td>ZW</td>\n",
       "      <td>ZWE</td>\n",
       "      <td>14439018.0</td>\n",
       "      <td>Africa</td>\n",
       "    </tr>\n",
       "    <tr>\n",
       "      <th>19245</th>\n",
       "      <td>23/03/2020</td>\n",
       "      <td>23</td>\n",
       "      <td>3</td>\n",
       "      <td>2020</td>\n",
       "      <td>0</td>\n",
       "      <td>0</td>\n",
       "      <td>Zimbabwe</td>\n",
       "      <td>ZW</td>\n",
       "      <td>ZWE</td>\n",
       "      <td>14439018.0</td>\n",
       "      <td>Africa</td>\n",
       "    </tr>\n",
       "    <tr>\n",
       "      <th>19246</th>\n",
       "      <td>22/03/2020</td>\n",
       "      <td>22</td>\n",
       "      <td>3</td>\n",
       "      <td>2020</td>\n",
       "      <td>1</td>\n",
       "      <td>0</td>\n",
       "      <td>Zimbabwe</td>\n",
       "      <td>ZW</td>\n",
       "      <td>ZWE</td>\n",
       "      <td>14439018.0</td>\n",
       "      <td>Africa</td>\n",
       "    </tr>\n",
       "    <tr>\n",
       "      <th>19247</th>\n",
       "      <td>21/03/2020</td>\n",
       "      <td>21</td>\n",
       "      <td>3</td>\n",
       "      <td>2020</td>\n",
       "      <td>1</td>\n",
       "      <td>0</td>\n",
       "      <td>Zimbabwe</td>\n",
       "      <td>ZW</td>\n",
       "      <td>ZWE</td>\n",
       "      <td>14439018.0</td>\n",
       "      <td>Africa</td>\n",
       "    </tr>\n",
       "  </tbody>\n",
       "</table>\n",
       "<p>19248 rows × 11 columns</p>\n",
       "</div>"
      ],
      "text/plain": [
       "          dateRep  day  month  year  cases  deaths countriesAndTerritories  \\\n",
       "0      25/05/2020   25      5  2020    584       2             Afghanistan   \n",
       "1      24/05/2020   24      5  2020    782      11             Afghanistan   \n",
       "2      23/05/2020   23      5  2020    540      12             Afghanistan   \n",
       "3      22/05/2020   22      5  2020    531       6             Afghanistan   \n",
       "4      21/05/2020   21      5  2020    492       9             Afghanistan   \n",
       "...           ...  ...    ...   ...    ...     ...                     ...   \n",
       "19243  25/03/2020   25      3  2020      0       0                Zimbabwe   \n",
       "19244  24/03/2020   24      3  2020      0       1                Zimbabwe   \n",
       "19245  23/03/2020   23      3  2020      0       0                Zimbabwe   \n",
       "19246  22/03/2020   22      3  2020      1       0                Zimbabwe   \n",
       "19247  21/03/2020   21      3  2020      1       0                Zimbabwe   \n",
       "\n",
       "      geoId countryterritoryCode  popData2018 continentExp  \n",
       "0        AF                  AFG   37172386.0         Asia  \n",
       "1        AF                  AFG   37172386.0         Asia  \n",
       "2        AF                  AFG   37172386.0         Asia  \n",
       "3        AF                  AFG   37172386.0         Asia  \n",
       "4        AF                  AFG   37172386.0         Asia  \n",
       "...     ...                  ...          ...          ...  \n",
       "19243    ZW                  ZWE   14439018.0       Africa  \n",
       "19244    ZW                  ZWE   14439018.0       Africa  \n",
       "19245    ZW                  ZWE   14439018.0       Africa  \n",
       "19246    ZW                  ZWE   14439018.0       Africa  \n",
       "19247    ZW                  ZWE   14439018.0       Africa  \n",
       "\n",
       "[19248 rows x 11 columns]"
      ]
     },
     "execution_count": 240,
     "metadata": {},
     "output_type": "execute_result"
    }
   ],
   "source": [
    "# load COVID-19 data from the WEB with the pandas-modult\n",
    "data = pd.read_csv('https://opendata.ecdc.europa.eu/covid19/casedistribution/csv/', engine=\"python\")\n",
    "\n",
    "# Uncomment the following line if you want to see all lines\n",
    "# (more than 15000) and not only 10:\n",
    "#pd.set_option('display.max_rows', None)\n",
    "data"
   ]
  },
  {
   "cell_type": "markdown",
   "metadata": {},
   "source": [
    "The data lists among other quantities:\n",
    "- first column (dateRep): (reported) date\n",
    "- fifth column (cases): new confirmed COVID-19 cases at that date\n",
    "- sixth column (deaths): new deaths because of COVID-19 at that date\n",
    "- seventh column (countriesAndTerritories): country"
   ]
  },
  {
   "cell_type": "markdown",
   "metadata": {},
   "source": [
    "The file lists all data from the 31st of December 2019 up to-date for all countries with known COVID-19 cases. Which countries are listed? Such information can be retrieved easily and quickly."
   ]
  },
  {
   "cell_type": "code",
   "execution_count": 241,
   "metadata": {},
   "outputs": [],
   "source": [
    "# list all countries reported in the data:\n",
    "#\n",
    "# The following line ensures that each country is reported once and that\n",
    "# the resulting list is sorted:\n",
    "countries = sorted((set(data['countriesAndTerritories'])))\n",
    "\n",
    "# we only print 5 countries as the list is very long. Just remove the brackets\n",
    "# if you want the full list:\n",
    "#countries[0:3]\n"
   ]
  },
  {
   "cell_type": "markdown",
   "metadata": {},
   "source": [
    "### Data-loading for our project"
   ]
  },
  {
   "cell_type": "markdown",
   "metadata": {},
   "source": [
    "Although the above data-format can be used efficiently, it requires a longer sequence of commands to retrieve interesting time-sequence data for specific countries. Because we do not want to deal with those data-handling issues at the moment, I transfered this part of the code to a module `corona_data`. It reads the data and extracts the columns *cases* and *deaths* for a specific country. Furthermore, it removes all data before the 1st of March 2020. This date, we consider our *Day Zero* of the pandemy henceforth."
   ]
  },
  {
   "cell_type": "code",
   "execution_count": 242,
   "metadata": {},
   "outputs": [],
   "source": [
    "# first read all the data into an own Corona class structure. This only\n",
    "# needs to be done only once within this notebook!\n",
    "corona = corona_data.CoronaData()\n",
    "\n",
    "# The countries listed are accessed as member variable of the Corona class.\n",
    "# We do not need them immediately but it comes in handy for your own tasks\n",
    "# below.\n",
    "countries = corona.countries\n"
   ]
  },
  {
   "cell_type": "code",
   "execution_count": 243,
   "metadata": {},
   "outputs": [
    {
     "name": "stdout",
     "output_type": "stream",
     "text": [
      "[ 0  1  2  3  4  5  6  7  8  9 10 11 12 13 14 15 16 17 18 19 20 21 22 23\n",
      " 24 25 26 27 28 29 30 31 32 33 34 35 36 37 38 39 40 41 42 43 44 45 46 47\n",
      " 48 49 50 51 52 53 54 55 56 57 58 59 60 61 62 63 64 65 66 67 68 69 70 71\n",
      " 72 73 74 75 76 77 78 79 80 81 82 83 84 85]\n",
      "[  54   18   28   39   66  138  284  163   55  237  157  271  802  693\n",
      "  733 1043 1174 1144 1042 5940 4049 3276 3311 4438 2342 4954 5780 6294\n",
      " 3965 4751 4615 5453 6156 6174 6082 5936 3677 3834 4003 4974 5323 4133\n",
      " 2821 2537 2082 2486 2866 3380 3609 2458 1775 1785 2237 2352 2337 2055\n",
      " 1737 1018 1144 1304 1478    0 2584  793  679  685 1037 1194 1209 1251\n",
      "  667  357  933  798  933  913  620  583  342  513  797  745  460  638\n",
      "  431  289]\n",
      "[  0   0   0   0   0   0   0   0   0   2   0   1   2   0   3   4   1   0\n",
      "   0  30   2  22  27  32  23  49  55  72  64  66 128 149 140 145 141 184\n",
      "  92 173 254 246 266 171 129 126 170 285 315 299 242 184 110 194 281 215\n",
      " 227 179 140 110 163 202 173   0 287  74  43 139 165 123 147 103  26  22\n",
      " 116 101  89 101  57  33  21  72  83  57  27  42  31  10]\n"
     ]
    }
   ],
   "source": [
    "# now isolate interesting data for a specific country\n",
    "#countries = corona.countries\n",
    "country = 'Germany'\n",
    "\n",
    "# The structure 'corona[country]' contains a triple of numpy-arrays\n",
    "# with days, cases and deaths. We assign them to three variables\n",
    "# with 'simultaneous assignment'.\n",
    "day, cases, deaths = corona[country]\n",
    "\n",
    "print(day)\n",
    "print(cases)\n",
    "print(deaths)"
   ]
  },
  {
   "cell_type": "markdown",
   "metadata": {},
   "source": [
    "The three arrays have the following intuitive meaning: At day 0 (1st of March 2020), 54 new COVID-19 infections and zero new deaths were reported from Germany and so on. "
   ]
  },
  {
   "cell_type": "markdown",
   "metadata": {},
   "source": [
    "We now can make a first plot with the new cases against the day."
   ]
  },
  {
   "cell_type": "code",
   "execution_count": 244,
   "metadata": {},
   "outputs": [
    {
     "data": {
      "text/plain": [
       "Text(0.5, 1.0, 'Daily COVID-19 infections in Germany')"
      ]
     },
     "execution_count": 244,
     "metadata": {},
     "output_type": "execute_result"
    },
    {
     "data": {
      "image/png": "[encoded data removed]",
      "text/plain": [
       "<Figure size 432x288 with 1 Axes>"
      ]
     },
     "metadata": {},
     "output_type": "display_data"
    }
   ],
   "source": [
    "# The following command alone is sufficient to create the plot\n",
    "plt.plot(day, cases)\n",
    "\n",
    "# The following commands label the axes and the plot\n",
    "plt.xlabel('day of COVID-19 pandemy')\n",
    "plt.ylabel('new COVID-19 cases')\n",
    "plt.title('Daily COVID-19 infections in Germany')"
   ]
  },
  {
   "cell_type": "markdown",
   "metadata": {},
   "source": [
    "## Your tasks"
   ]
  },
  {
   "cell_type": "markdown",
   "metadata": {},
   "source": [
    "**Note:** Please continue this notebook and do all the following tasks within that notebook. Please comment appropriately all code-blocks and perform the necessary discussions of your results in Markup cells. All plots must have appropriate axes-labels and a title! Your project submission will consist of the modified notebook."
   ]
  },
  {
   "cell_type": "markdown",
   "metadata": {},
   "source": [
    "The plot that we just created tells us that *new* infections have a decreasing trend. But to understand better the current state of the pandemy, we want to look at additional quantities.\n",
    "\n",
    "1. Plot the *total accumulated number* of COVID-19 cases against the day. Give a short discussion on that plot. What kind of curve do you expect for a pandemy that can spread freely?  What effect do the current measures and restrictions in Germany (e.g. social distancing) have on the curve? Discuss this with the knowledge that drastic limitations on our life (closure of schools etc.) took effect in Germany on the 16th of March. What will the curve look like when the pandemy is over?\n",
    "   \n",
    "   **Hint:** Have a look at the `numpy` `cumsum`-function.\n",
    "   \n",
    "2. A very important quantity to decide whether current measures to confine the pandemy can be relaxed is the *development of the number of people who still can infect others (the infectious population)*. The main purpose of all COVID-19 restrictions is to realise a decreasing trend of that number! This quantity can be obtained by *the number of infected people minus those who died and minus those who recovered from COVID-19*. It is implicitely assumed in the following that recovered patients are immune against COVID-19.\n",
    "\n",
    "   From the required information *only* the number of dead people is certain. The number of infected people is uncertain because we only have *reported* cases and we do not know how many people are infected but were not (yet) tested. Even more uncertain is the number of recovered patients and we entirely rely on an estimate for it. Furthermore, there are *many* definitions of *recoverd patients* around. The one coming closest to our procedure is the following: *A patient recovers if there are no symptoms 14-days after she was tested positively or after she left hospital.*\n",
    "   \n",
    "   Lacking further information, we define (overestimate) the number of recovered persons as follows: We consider everybody recovered who was positively tested more than 13-days ago and did not die.    \n",
    "   Given these assumptions, create a plot of the infectious population as a function of pandemy-day for Germany. Discuss that plot. Assuming, the government withdrew all CVID-19 restrictions today and people immediately behaved as before the crisis, how long would it take until the number of infectious patients reaches again its all-time maximum?\n",
    "   \n",
    "   **Hint:** `numpy` array-slicing!\n",
    "   \n",
    "3. Create a loop over all countries with confirmed COVID-19 cases - see the hint below. List those countries who currently still have a *raising* infectious population. Limit the analysis to countries with more than 5000 confirmed COVID-19 cases.\n",
    "\n",
    "   **Hint:** A raising infectious population means (for us) that the *derivative* of the plot from task (2) is positive today. \n",
    "   \n",
    "**Note:** I include sample plots for tasks 1 and 2 from the 28th of March to the materials of this project. This allows you to verify your solution.   "
   ]
  },
  {
   "cell_type": "code",
   "execution_count": 245,
   "metadata": {},
   "outputs": [],
   "source": [
    "# Hint to create a loop over all countries.\n",
    "#\n",
    "# The countries of known COVID-19 cases are stored in a so-called list.\n",
    "# A Python-list is, as the numpy-arrays, a container (in that case of strings)\n",
    "# whose elements can be accessed and iterated over in a very similar way:\n",
    "#for country in countries:\n",
    "    #print(country)"
   ]
  },
  {
   "cell_type": "code",
   "execution_count": 246,
   "metadata": {},
   "outputs": [
    {
     "name": "stdout",
     "output_type": "stream",
     "text": [
      "[    54     72    100    139    205    343    627    790    845   1082\n",
      "   1239   1510   2312   3005   3738   4781   5955   7099   8141  14081\n",
      "  18130  21406  24717  29155  31497  36451  42231  48525  52490  57241\n",
      "  61856  67309  73465  79639  85721  91657  95334  99168 103171 108145\n",
      " 113468 117601 120422 122959 125041 127527 130393 133773 137382 139840\n",
      " 141615 143400 145637 147989 150326 152381 154118 155136 156280 157584\n",
      " 159062 159062 161646 162439 163118 163803 164840 166034 167243 168494\n",
      " 169161 169518 170451 171249 172182 173095 173715 174298 174640 175153\n",
      " 175950 176695 177155 177793 178224 178513]\n"
     ]
    },
    {
     "data": {
      "text/plain": [
       "Text(0.5, 1.0, 'Total accumulated cases in Germany')"
      ]
     },
     "execution_count": 246,
     "metadata": {},
     "output_type": "execute_result"
    },
    {
     "data": {
      "image/png": "[encoded data removed]",
      "text/plain": [
       "<Figure size 432x288 with 1 Axes>"
      ]
     },
     "metadata": {},
     "output_type": "display_data"
    }
   ],
   "source": [
    "#corona = corona_data.CoronaData()\n",
    "#countries = corona.countries\n",
    "#day, cases, deaths = corona[country]\n",
    "\n",
    "tot_c=np.zeros((len(cases)), dtype=int) # total no. of cases in integer format\n",
    "j=0\n",
    "while j < len(cases):   # loop to caculate the total no. of accumulated COVID -19 cases in Germany\n",
    "    tot_c[j]=cases[j] + tot_c[j-1]\n",
    "    j =j+1\n",
    "print(tot_c)\n",
    "plt.plot(day, tot_c)\n",
    "plt.xlabel('day of COVID-19 pandemy')\n",
    "plt.ylabel('Accumulated COVID-19 cases')\n",
    "plt.title('Total accumulated cases in Germany')\n"
   ]
  },
  {
   "cell_type": "code",
   "execution_count": 247,
   "metadata": {},
   "outputs": [
    {
     "data": {
      "text/plain": [
       "array([    54,     72,    100,    139,    205,    343,    627,    790,\n",
       "          845,   1082,   1239,   1510,   2312,   3005,   3738,   4781,\n",
       "         5955,   7099,   8141,  14081,  18130,  21406,  24717,  29155,\n",
       "        31497,  36451,  42231,  48525,  52490,  57241,  61856,  67309,\n",
       "        73465,  79639,  85721,  91657,  95334,  99168, 103171, 108145,\n",
       "       113468, 117601, 120422, 122959, 125041, 127527, 130393, 133773,\n",
       "       137382, 139840, 141615, 143400, 145637, 147989, 150326, 152381,\n",
       "       154118, 155136, 156280, 157584, 159062, 159062, 161646, 162439,\n",
       "       163118, 163803, 164840, 166034, 167243, 168494, 169161, 169518,\n",
       "       170451, 171249, 172182, 173095, 173715, 174298, 174640, 175153,\n",
       "       175950, 176695, 177155, 177793, 178224, 178513])"
      ]
     },
     "execution_count": 247,
     "metadata": {},
     "output_type": "execute_result"
    }
   ],
   "source": [
    "np.cumsum(cases) #same stuff tells us about the cumulative no. of cases in Germany"
   ]
  },
  {
   "cell_type": "code",
   "execution_count": 248,
   "metadata": {},
   "outputs": [
    {
     "data": {
      "text/plain": [
       "(0, 50000)"
      ]
     },
     "execution_count": 248,
     "metadata": {},
     "output_type": "execute_result"
    },
    {
     "data": {
      "image/png": "[encoded data removed]",
      "text/plain": [
       "<Figure size 432x288 with 1 Axes>"
      ]
     },
     "metadata": {},
     "output_type": "display_data"
    }
   ],
   "source": [
    "#Verification of the plot with the one given by THOMAS\n",
    "plt.plot(day, np.cumsum(cases))\n",
    "plt.xlabel('day of COVID-19 pandemy')\n",
    "plt.ylabel('Accumulated COVID-19 cases')\n",
    "plt.title('Total accumulated cases in Germany')\n",
    "plt.xlim(0,28)\n",
    "plt.ylim(0, 50000)"
   ]
  },
  {
   "cell_type": "markdown",
   "metadata": {},
   "source": [
    "#### In the above plot, there is a subsequent growth in the number of cases with each passing day but after some time the number of new cases have reduced substantially due to preventive measures taken by the public and the government.\n",
    "\n",
    "#### From the above plot of total cumulative cases v/s day we can clearly see that in the beginning there is an exponential growth in case numbers which can generally be expected when an infectious disease spreads unhindered.\n",
    "\n",
    "#### Over time with social distancing or government measures such as curfew, it led to fewer and fewer contacts between infected and non-infected persons, which led to a temporal decrease in the so-called reproduction rate which is clear from the plot above as it is tending to get flatter with time.\n",
    "#### When the pandemy gets over, the above plot will become flat i.e. the derivative of the plot will be zero."
   ]
  },
  {
   "cell_type": "code",
   "execution_count": 249,
   "metadata": {},
   "outputs": [
    {
     "name": "stdout",
     "output_type": "stream",
     "text": [
      "(array([39]),)\n",
      "[     54     126     226     365     570     913    1540    2330    3175\n",
      "    4255    5492    6999    9306   12306   15990   20699   26554   33514\n",
      "   41450   55188   72691   93307  117179  145252  175510  210451  250370\n",
      "  295890  344642  397102  453003  513213  578537  644095  711686  781937\n",
      "  852554  922567  994241 1065935 1137172 1206248 1274180 1339898 1403083\n",
      " 1463301 1520229 1574363 1626024 1674207 1720488 1764720 1807186 1847030\n",
      " 1883888 1918668 1952364 1984541 2015780 2045837 2074506 2099795 2124059\n",
      " 2146658 2168161 2188564 2207767 2225812 2242729 2258842 2273885 2288267\n",
      " 2302438 2316103 2329223 2343256 2355325 2367184 2378706 2390056 2401166\n",
      " 2411827 2421739 2431038 2440101 2449096]\n",
      "[   54    72   100   139   205   343   627   790   845  1080  1237  1507\n",
      "  2307  3000  3684  4709  5855  6960  7936 13738 17503 20616 23872 28073\n",
      " 30258 34941 39919 45520 48752 52460 55901 60210 65324 65558 67591 70251\n",
      " 70617 70013 71674 71694 71237 69076 67932 65718 63185 60218 56928 54134\n",
      " 51661 48183 46281 44232 42466 39844 36858 34780 33696 32177 31239 30057\n",
      " 28669 25289 24264 22599 21503 20403 19203 18045 16917 16113 15043 14382\n",
      " 14171 13665 13120 14033 12069 11859 11522 11350 11110 10661  9912  9299\n",
      "  9063  8995]\n"
     ]
    },
    {
     "data": {
      "text/plain": [
       "Text(0.5, 1.0, 'Total no. of infected people in Germany')"
      ]
     },
     "execution_count": 249,
     "metadata": {},
     "output_type": "execute_result"
    },
    {
     "data": {
      "image/png": "[encoded data removed]",
      "text/plain": [
       "<Figure size 432x288 with 1 Axes>"
      ]
     },
     "metadata": {},
     "output_type": "display_data"
    }
   ],
   "source": [
    "#First of all i begin with defining the COVID-19 infected people as a function of day, cases and death\n",
    "def func(day, cases, deaths):\n",
    "    overestimate=np.zeros(len(day), dtype=int) # I create an array to save the data of no. of recovered people\n",
    "    infected_estimate=np.zeros(len(day), dtype=int) #I create an array to save the data of no. of infected people\n",
    "     # we now make a loop in order to calculate the no. of infected people.  we will begin by eliminating people who have recovered and those who have died.\n",
    "    for j in range(14, len(day)):\n",
    "        if (j==14):\n",
    "             overestimate[j]=cases[j-14] - np.cumsum(deaths)[j]  \n",
    "        else:\n",
    "            overestimate[j]=cases[j-14] - deaths[j]\n",
    "        j+=1\n",
    "    infected_estimate= np.cumsum(cases) - np.cumsum(overestimate) - np.cumsum(deaths) # remaining infected population\n",
    "    return infected_estimate\n",
    "y=func(day, cases, deaths)# array  with data of an estimate of  infected population\n",
    "print(np.where(y == max(y))) # to find how many days it took the no. of infected population to reach the maximum point\n",
    "print(np.cumsum(y))\n",
    "print(y)\n",
    "plt.plot(day, y)\n",
    "plt.xlabel('Pandemy day')\n",
    "plt.ylabel('Infectious population')\n",
    "plt.title('Total no. of infected people in Germany')\n"
   ]
  },
  {
   "cell_type": "markdown",
   "metadata": {},
   "source": [
    "#### According to the plot, there is a subsequent rise in the number of infected people until it reaches a maximum (in case of Germany took 39 days) and due to various precautions taken, the curve falls indicating the fact that the number of infected population decreased.\n",
    "\n",
    "\n",
    "#### If infection leads to immunity, successful social distancing also means  that more people remain susceptible to the disease. As a result, once we lift the social distancing measures, the virus will quite possibly spread again as easily as it did before the lockdowns.\n",
    "\n",
    "#### The pandemic wave, similarly, will be with us for the foreseeable future before it diminishes.  But, depending on one’s geographic and the policies in place, it will exhibit variegated dimensions and dynamics traveling through time and space. We must be prepared for at least another  18 to 24 months of significant Covid-19 activity, with hot spots popping up periodically in diverse geographic areas."
   ]
  },
  {
   "cell_type": "code",
   "execution_count": 250,
   "metadata": {},
   "outputs": [
    {
     "data": {
      "text/plain": [
       "(0, 50000)"
      ]
     },
     "execution_count": 250,
     "metadata": {},
     "output_type": "execute_result"
    },
    {
     "data": {
      "image/png": "[encoded data removed]",
      "text/plain": [
       "<Figure size 432x288 with 1 Axes>"
      ]
     },
     "metadata": {},
     "output_type": "display_data"
    }
   ],
   "source": [
    "#Verification of the plot with the one provided by Thomas....\n",
    "plt.plot(day, y)\n",
    "plt.xlabel('day of COVID-19 pandemy')\n",
    "plt.ylabel('Infected population')\n",
    "plt.title('Total no. of infected people in Germany')\n",
    "\n",
    "plt.xlim(14,28)\n",
    "plt.ylim(0, 50000)"
   ]
  },
  {
   "cell_type": "code",
   "execution_count": 251,
   "metadata": {},
   "outputs": [
    {
     "name": "stdout",
     "output_type": "stream",
     "text": [
      "Afghanistan\n",
      "Algeria\n",
      "Argentina\n",
      "Armenia\n",
      "Austria\n",
      "Bahrain\n",
      "Bangladesh\n",
      "Belarus\n",
      "Bolivia\n",
      "Brazil\n",
      "Chile\n",
      "Colombia\n",
      "Czechia\n",
      "Ecuador\n",
      "Egypt\n",
      "Ghana\n",
      "India\n",
      "Indonesia\n",
      "Iran\n",
      "Israel\n",
      "Kazakhstan\n",
      "Mexico\n",
      "Moldova\n",
      "Nigeria\n",
      "Oman\n",
      "Pakistan\n",
      "Panama\n",
      "Peru\n",
      "Philippines\n",
      "Poland\n",
      "Qatar\n",
      "Saudi_Arabia\n",
      "South_Africa\n",
      "United_States_of_America\n"
     ]
    }
   ],
   "source": [
    "corona = corona_data.CoronaData()\n",
    "countries = corona.countries\n",
    "\n",
    "for i in countries:\n",
    "    day, cases, deaths=corona[i]\n",
    "    if cases.sum() >= 5000: # loop to calculate no. of countries where total no. of cases is more than 5000\n",
    "        #print(i)\n",
    "        day, cases, deaths=corona[i]\n",
    "        y=func(day, cases, deaths)\n",
    "        #print(y)\n",
    "        dy_dx=y[1:]-y[:-1]/(day[1:]-day[:-1]) # calculation of the derivative of the infected people vs pandemy day plot for last day \n",
    "        #print(dy_dx)\n",
    "        #xx=(day[1:]+day[:-1])/2\n",
    "        #dy_dx1=(dy_dx[-1:])-(dy_dx[len(dy_dx)-2])\n",
    "        #print(y)\n",
    "        a=dy_dx[-1:]# the last element of the array dy_dx\n",
    "        if a > 0:\n",
    "            print(i) # This will print the countries with positive derivative of plot i.e. those which still have raising infection\n",
    "        "
   ]
  },
  {
   "cell_type": "markdown",
   "metadata": {},
   "source": [
    "#### The List of countries having a raising infectious population  "
   ]
  },
  {
   "cell_type": "code",
   "execution_count": null,
   "metadata": {},
   "outputs": [],
   "source": []
  },
  {
   "cell_type": "code",
   "execution_count": null,
   "metadata": {},
   "outputs": [],
   "source": []
  },
  {
   "cell_type": "code",
   "execution_count": null,
   "metadata": {},
   "outputs": [],
   "source": []
  },
  {
   "cell_type": "code",
   "execution_count": null,
   "metadata": {},
   "outputs": [],
   "source": []
  },
  {
   "cell_type": "code",
   "execution_count": null,
   "metadata": {},
   "outputs": [],
   "source": []
  }
 ],
 "metadata": {
  "kernelspec": {
   "display_name": "Python 3",
   "language": "python",
   "name": "python3"
  },
  "language_info": {
   "codemirror_mode": {
    "name": "ipython",
    "version": 3
   },
   "file_extension": ".py",
   "mimetype": "text/x-python",
   "name": "python",
   "nbconvert_exporter": "python",
   "pygments_lexer": "ipython3",
   "version": "3.7.3"
  }
 },
 "nbformat": 4,
 "nbformat_minor": 4
}
