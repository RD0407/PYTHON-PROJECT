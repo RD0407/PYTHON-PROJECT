import os
from PIL import Image, ImageEnhance, ImageFilter

print("Current directory contains:", os.listdir('.'))

path = 'imgs'
pathOut = 'editedImgs'

os.makedirs(pathOut, exist_ok=True)

for filename in os.listdir(path):
    print("Processing:", filename)  # debug
    img = Image.open(os.path.join(path, filename))
    edit = img.filter(ImageFilter.SHARPEN)
    clean_name = os.path.splitext(filename)[0]
    edit.save(os.path.join(pathOut, f'{clean_name}_edited.png'))
