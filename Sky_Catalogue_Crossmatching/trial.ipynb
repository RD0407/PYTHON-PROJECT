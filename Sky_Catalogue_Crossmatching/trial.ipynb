{
 "cells": [
  {
   "cell_type": "markdown",
   "metadata": {},
   "source": [
    "# Project 3 - Crossmatching astronomical catalogues"
   ]
  },
  {
   "cell_type": "markdown",
   "metadata": {},
   "source": [
    "**Project deadline:** This project is due for submission on Wednesday, 01.07.2020. You receive details on the submission process from your tutor!"
   ]
  },
  {
   "cell_type": "markdown",
   "metadata": {},
   "source": [
    "**PLEASE READ THIS NOTEBOOK COMPLETELY BEFORE YOU START TO WORK ON THE PROJECT!**"
   ]
  },
  {
   "cell_type": "markdown",
   "metadata": {},
   "source": [
    "## About the Projects\n",
    "- You will get one project approximately every other week.\n",
    "- Besides the homework-assignments, you need to solve the projects in order to pass the course. Your final course mark consists of the mean of your project marks. We will give you *four* projects during the term and we do not consider the worst project mark for your final course mark. Projects that you do not hand in are counted with a mark of 4.\n",
    "- The projects need to be submitted to your tutor and he will give you necessary information on the submission process!\n",
    "- **In contrast to the homework exercises, each student must hand in an own solution for the projects! Of course you can and should discuss problems with each other! However, you must not use code or code-parts from your student peers in your project solutions!**\n",
    "\n",
    "**Note: The tutors, Oliver and I are very happy to help you out with difficulties you might have with the project tasks! You can ask questions any time but please do so well in advance of the deadlines!**"
   ]
  },
  {
   "cell_type": "markdown",
   "metadata": {},
   "source": [
    "## Introduction"
   ]
  },
  {
   "cell_type": "markdown",
   "metadata": {},
   "source": [
    "Astronomical observations in optical wavelengths are performed nowadys with CCD-cameras mounted on optical telescopes. The following figure shows two observations of the same patch of the sky. The data were taken in 2007 at our old observatory [Hoher List](https://www.hoher-list.de/)."
   ]
  },
  {
   "cell_type": "markdown",
   "metadata": {},
   "source": [
    "<img src=\"figs/dithered_images.png\" width=\"700\" height=\"700\" />"
   ]
  },
  {
   "cell_type": "markdown",
   "metadata": {},
   "source": [
    "The objects in black are stars. These sources can be extracted from the images and analysed for their appearance, their brightness and many other quantities. Please see the Notebook `scipy_optical_object_detection.ipynb` within the github-repository [Thomas Erben - Python Cheat Sheets](https://github.com/terben/Python-cheat-sheets) if you are interested how such analyses can be performed with Python. We already covered all necessary topics in our course!\n",
    "\n",
    "You note that the two images show approximately the same patch of the sky but also that they are shifted with respect to each other. You can spot three prominent sources in the upper part of the left figure which are located closer to the center on the right.\n",
    "\n",
    "Although we know *in principle* precisely what the shift between different astronomical exposures is (we ask the telescope to point to a certain position of the sky), this information is subject to errors and inaccuracies - mostly due to pointing problems of the telescope."
   ]
  },
  {
   "cell_type": "markdown",
   "metadata": {},
   "source": [
    "To compare properties of the same source in different exposures - for instance to investigate whether a star is variable, it is essential to determine *precise* shifts between such exposures. To implement an algorithm for this task is the topic of this project."
   ]
  },
  {
   "cell_type": "markdown",
   "metadata": {},
   "source": [
    "## Our Algorithm to crossmatch astronomical catalogs"
   ]
  },
  {
   "cell_type": "markdown",
   "metadata": {},
   "source": [
    "Starting point for our project are the six object catalogs `image013269.asc .. image013274.asc` from consecutive observations of the same patch of the sky within the `data` subdirectory. The catalogs are text files having two columns: The $x$ and $y$ positions of detected sources in their respective CCD-images."
   ]
  },
  {
   "cell_type": "code",
   "execution_count": null,
   "metadata": {},
   "outputs": [],
   "source": [
    "!head data/image013269.asc"
   ]
  },
  {
   "cell_type": "markdown",
   "metadata": {},
   "source": [
    "The following image shows detected sources in the images `image013269.asc` and `image013271.asc`."
   ]
  },
  {
   "cell_type": "markdown",
   "metadata": {},
   "source": [
    "<img src=\"figs/detected_objects.png\" width=\"700\" height=\"700\" />"
   ]
  },
  {
   "cell_type": "markdown",
   "metadata": {},
   "source": [
    "Can you spot that those catalogues originate from the same sky-area but are shifted against each other? \n",
    "Given those source lists, we want to implement an algorithm to automatically determine offsets between the exposures in $x-$ and $y$-directions."
   ]
  },
  {
   "cell_type": "markdown",
   "metadata": {},
   "source": [
    "**Notes:**\n",
    "1. You might realise that an $x-$ and $y-$shift cannot be the whole story because astronomical observations are done on *a sphere* and not on a two-dimensional plane. This is correct and for large-format cameras, we need to take into account spherical geometry. However, in our case, the field-of-view is so small that we can neglect the effects of a sphere and the plane approximation is good enough.\n",
    "\n",
    "2. We realise that objects present in one image might not be present in the other one. This can have several reasons: (1) edge effects; (2) a CCD might have bad pixels within an object; (3) some detections are CCD artefacts and not of astronomical origin."
   ]
  },
  {
   "cell_type": "code",
   "execution_count": null,
   "metadata": {},
   "outputs": [],
   "source": []
  },
  {
   "cell_type": "markdown",
   "metadata": {},
   "source": [
    "A possible algorithm to estimate a linear shift between two-dimensional point clouds\n",
    "that share the same pattern (object configuration) is the following:\n",
    "\n",
    "1. We calculate the $x$- and $y$-distances from all objects in one catalogue\n",
    "   with respect to *all objects* in the other catalogue:\n",
    "   \n",
    "   An example with two fake catalogues:\n",
    "   - Catalogue 1 has objects at (1, 1), (3, 1), (3, 3), (1, 3), (2, 2), (7, 2), (-1, 2)\n",
    "   - Catalogue 2 has objects at (4, 4), (6, 4), (6, 6), (4, 6), (5, 5), (1, 3), 10, 6)\n",
    "   \n",
    "    The common pattern in the catalogues is a $2\\times 2$ square\n",
    "    with a point in the middle and each catalogue contains two\n",
    "    points not present in the counterpart.\n",
    "    \n",
    "    If we calculate the x distances for point 1 of catalogue 1\n",
    "    with all objects from catalogue 2 we obtain the array:\n",
    "\n",
    "    1 - 4, 1 - 6, 1 - 6, 1 - 4, 1 - 5, 1 - 1, 1 - 10\n",
    "   \n",
    "    We obtain for point 2:\n",
    "\n",
    "    3 - 4, 3 - 6, 3 - 6, 3 - 4, 3 - 5, 3 - 1, 3 - 10\n",
    "    \n",
    "    The same we do for *all other* points and also for the\n",
    "    $y$-distances. We store those $x-$ and $y-$distances in two arrays.\n",
    "    \n",
    "2.  We analyse the frequency of the distances in histograms.\n",
    "    We realise that the offsets between the\n",
    "    catalogues can be found in the histogram bins (for $x$ and $y$\n",
    "    separately) that contain most counts.   "
   ]
  },
  {
   "cell_type": "markdown",
   "metadata": {},
   "source": [
    "## Task 1"
   ]
  },
  {
   "cell_type": "markdown",
   "metadata": {},
   "source": [
    "Please do all the tasks at the end of this notebook. You will finally hand-in the modified notebook to your tutor.\n",
    "\n",
    "To test your understanding of the algorithm, please answer the following questions:\n",
    "\n",
    "1. What are good and what are bad object patterns for this algorithm\n",
    "   to work well. Why do you think that the algorithm is especially suited for astronomical data?\n",
    "   \n",
    "   **Hint:**\n",
    "   Assume that your main pattern is a straight line of equidistant points. What problem    does occur in this case?\n",
    "   \n",
    "2.  I wrote above 'The offset between the catalogues can be found\n",
    "    at the histogram bins (for $x-$ and $y-$ separately) that contain\n",
    "    most counts.'. Why do we need a histogram analysis? Can't we just\n",
    "    get all the distances as in point 1 of the algorithm and check which value (distance) occurs most often in the arrays?\n",
    "\n",
    "3. Assume that we can estimate object positions with an accuracy of up to one CCD pixel. Which histogram bin size would you choose for your analysis and why?"
   ]
  },
  {
   "cell_type": "code",
   "execution_count": 2,
   "metadata": {},
   "outputs": [
    {
     "name": "stdout",
     "output_type": "stream",
     "text": [
      "44.5027 28.2661\n",
      "191.230 215.587\n",
      "150.108 259.954\n",
      "204.017 290.501\n",
      "608.995 296.005\n",
      "561.983 322.495\n",
      "731.254 373.325\n",
      "436.115 361.365\n",
      "87.2245 409.041\n",
      "699.004 416.995\n"
     ]
    }
   ],
   "source": [
    "!head data/image013269.asc\n"
   ]
  },
  {
   "cell_type": "code",
   "execution_count": 4,
   "metadata": {},
   "outputs": [],
   "source": [
    "import numpy as np \n",
    "a = np.arange(1,10)\n",
    "b = np.arange(10,20)\n",
    "\n",
    "#e = np.concatenate(a,b)\n"
   ]
  },
  {
   "cell_type": "code",
   "execution_count": 5,
   "metadata": {},
   "outputs": [
    {
     "name": "stdout",
     "output_type": "stream",
     "text": [
      "[-844.3073 -217.0013 -673.5583  -59.7473 -756.7083 -793.9613 -376.5613\n",
      " -282.5503 -757.2933 -487.5573 -697.58    -70.274  -526.831    86.98\n",
      " -609.981  -647.234  -229.834  -135.823  -610.566  -340.83   -738.702\n",
      " -111.396  -567.953    45.858  -651.103  -688.356  -270.956  -176.945\n",
      " -651.688  -381.952  -684.793   -57.487  -514.044    99.767  -597.194\n",
      " -634.447  -217.047  -123.036  -597.779  -328.043  -279.815   347.491\n",
      " -109.066   504.745  -192.216  -229.469   187.931   281.942  -192.801\n",
      "   76.935  -326.827   300.479  -156.078   457.733  -239.228  -276.481\n",
      "  140.919   234.93   -239.813    29.923  -157.556   469.75     13.193\n",
      "  627.004   -69.957  -107.21    310.19    404.201   -70.542   199.194\n",
      " -452.695   174.611  -281.946   331.865  -365.096  -402.349    15.051\n",
      "  109.062  -365.681   -95.945  -801.5855 -174.2795 -630.8365  -17.0255\n",
      " -713.9865 -751.2395 -333.8395 -239.8285 -714.5715 -444.8355 -189.806\n",
      "  437.5     -19.057   594.754  -102.207  -139.46    277.94    371.951\n",
      " -102.792   166.944 ]\n"
     ]
    }
   ],
   "source": [
    "data_69= !head data/image013269.asc\n",
    "data_71= !head data/image013271.asc\n",
    "\n",
    "import numpy as np\n",
    "import matplotlib.pyplot as plt \n",
    "x = np.loadtxt(data_69)\n",
    "y=  np.loadtxt(data_71)\n",
    "#print(x)\n",
    "#print(y)\n",
    "\n",
    "g=(y[:,0])\n",
    "c=[]\n",
    "\n",
    "for i in range(0,10):\n",
    "    k=x[i,0]\n",
    "    diff=np.subtract(k,g)\n",
    "    #print(diff)\n",
    "    c=np.append(c,diff)\n",
    "    #d = np.\n",
    "print(c)\n",
    " \n",
    "    \n",
    "    \n",
    "g=(y[:,1])\n",
    "c1=[]\n",
    "for j in range(0,10):\n",
    "    k1=x[j,1]\n",
    "    #print(k)\n",
    "    diff=(np.subtract(k1,g))\n",
    "    #np.newaxis()\n",
    "    #c1=np.flatten(c1,diff)\n",
    "    #print(diff)\n",
    "#print(c1)"
   ]
  },
  {
   "cell_type": "code",
   "execution_count": 6,
   "metadata": {},
   "outputs": [
    {
     "name": "stdout",
     "output_type": "stream",
     "text": [
      "[ 0.000000e+00  1.467273e+02  1.056053e+02  1.595143e+02  5.644923e+02\n",
      "  5.174803e+02  6.867513e+02  3.916123e+02  4.272180e+01  6.545013e+02\n",
      "  8.443073e+02  2.170013e+02  6.735583e+02  5.974730e+01  7.567083e+02\n",
      "  7.939613e+02  3.765613e+02  2.825503e+02  7.572933e+02  4.875573e+02\n",
      " -1.467273e+02  0.000000e+00 -4.112200e+01  1.278700e+01  4.177650e+02\n",
      "  3.707530e+02  5.400240e+02  2.448850e+02 -1.040055e+02  5.077740e+02\n",
      "  6.975800e+02  7.027400e+01  5.268310e+02 -8.698000e+01  6.099810e+02\n",
      "  6.472340e+02  2.298340e+02  1.358230e+02  6.105660e+02  3.408300e+02\n",
      " -1.056053e+02  4.112200e+01  0.000000e+00  5.390900e+01  4.588870e+02\n",
      "  4.118750e+02  5.811460e+02  2.860070e+02 -6.288350e+01  5.488960e+02\n",
      "  7.387020e+02  1.113960e+02  5.679530e+02 -4.585800e+01  6.511030e+02\n",
      "  6.883560e+02  2.709560e+02  1.769450e+02  6.516880e+02  3.819520e+02\n",
      " -1.595143e+02 -1.278700e+01 -5.390900e+01  0.000000e+00  4.049780e+02\n",
      "  3.579660e+02  5.272370e+02  2.320980e+02 -1.167925e+02  4.949870e+02\n",
      "  6.847930e+02  5.748700e+01  5.140440e+02 -9.976700e+01  5.971940e+02\n",
      "  6.344470e+02  2.170470e+02  1.230360e+02  5.977790e+02  3.280430e+02\n",
      " -5.644923e+02 -4.177650e+02 -4.588870e+02 -4.049780e+02  0.000000e+00\n",
      " -4.701200e+01  1.222590e+02 -1.728800e+02 -5.217705e+02  9.000900e+01\n",
      "  2.798150e+02 -3.474910e+02  1.090660e+02 -5.047450e+02  1.922160e+02\n",
      "  2.294690e+02 -1.879310e+02 -2.819420e+02  1.928010e+02 -7.693500e+01\n",
      " -5.174803e+02 -3.707530e+02 -4.118750e+02 -3.579660e+02  4.701200e+01\n",
      "  0.000000e+00  1.692710e+02 -1.258680e+02 -4.747585e+02  1.370210e+02\n",
      "  3.268270e+02 -3.004790e+02  1.560780e+02 -4.577330e+02  2.392280e+02\n",
      "  2.764810e+02 -1.409190e+02 -2.349300e+02  2.398130e+02 -2.992300e+01\n",
      " -6.867513e+02 -5.400240e+02 -5.811460e+02 -5.272370e+02 -1.222590e+02\n",
      " -1.692710e+02  0.000000e+00 -2.951390e+02 -6.440295e+02 -3.225000e+01\n",
      "  1.575560e+02 -4.697500e+02 -1.319300e+01 -6.270040e+02  6.995700e+01\n",
      "  1.072100e+02 -3.101900e+02 -4.042010e+02  7.054200e+01 -1.991940e+02\n",
      " -3.916123e+02 -2.448850e+02 -2.860070e+02 -2.320980e+02  1.728800e+02\n",
      "  1.258680e+02  2.951390e+02  0.000000e+00 -3.488905e+02  2.628890e+02\n",
      "  4.526950e+02 -1.746110e+02  2.819460e+02 -3.318650e+02  3.650960e+02\n",
      "  4.023490e+02 -1.505100e+01 -1.090620e+02  3.656810e+02  9.594500e+01\n",
      " -4.272180e+01  1.040055e+02  6.288350e+01  1.167925e+02  5.217705e+02\n",
      "  4.747585e+02  6.440295e+02  3.488905e+02  0.000000e+00  6.117795e+02\n",
      "  8.015855e+02  1.742795e+02  6.308365e+02  1.702550e+01  7.139865e+02\n",
      "  7.512395e+02  3.338395e+02  2.398285e+02  7.145715e+02  4.448355e+02\n",
      " -6.545013e+02 -5.077740e+02 -5.488960e+02 -4.949870e+02 -9.000900e+01\n",
      " -1.370210e+02  3.225000e+01 -2.628890e+02 -6.117795e+02  0.000000e+00\n",
      "  1.898060e+02 -4.375000e+02  1.905700e+01 -5.947540e+02  1.022070e+02\n",
      "  1.394600e+02 -2.779400e+02 -3.719510e+02  1.027920e+02 -1.669440e+02\n",
      " -8.443073e+02 -6.975800e+02 -7.387020e+02 -6.847930e+02 -2.798150e+02\n",
      " -3.268270e+02 -1.575560e+02 -4.526950e+02 -8.015855e+02 -1.898060e+02\n",
      "  0.000000e+00 -6.273060e+02 -1.707490e+02 -7.845600e+02 -8.759900e+01\n",
      " -5.034600e+01 -4.677460e+02 -5.617570e+02 -8.701400e+01 -3.567500e+02\n",
      " -2.170013e+02 -7.027400e+01 -1.113960e+02 -5.748700e+01  3.474910e+02\n",
      "  3.004790e+02  4.697500e+02  1.746110e+02 -1.742795e+02  4.375000e+02\n",
      "  6.273060e+02  0.000000e+00  4.565570e+02 -1.572540e+02  5.397070e+02\n",
      "  5.769600e+02  1.595600e+02  6.554900e+01  5.402920e+02  2.705560e+02\n",
      " -6.735583e+02 -5.268310e+02 -5.679530e+02 -5.140440e+02 -1.090660e+02\n",
      " -1.560780e+02  1.319300e+01 -2.819460e+02 -6.308365e+02 -1.905700e+01\n",
      "  1.707490e+02 -4.565570e+02  0.000000e+00 -6.138110e+02  8.315000e+01\n",
      "  1.204030e+02 -2.969970e+02 -3.910080e+02  8.373500e+01 -1.860010e+02\n",
      " -5.974730e+01  8.698000e+01  4.585800e+01  9.976700e+01  5.047450e+02\n",
      "  4.577330e+02  6.270040e+02  3.318650e+02 -1.702550e+01  5.947540e+02\n",
      "  7.845600e+02  1.572540e+02  6.138110e+02  0.000000e+00  6.969610e+02\n",
      "  7.342140e+02  3.168140e+02  2.228030e+02  6.975460e+02  4.278100e+02\n",
      " -7.567083e+02 -6.099810e+02 -6.511030e+02 -5.971940e+02 -1.922160e+02\n",
      " -2.392280e+02 -6.995700e+01 -3.650960e+02 -7.139865e+02 -1.022070e+02\n",
      "  8.759900e+01 -5.397070e+02 -8.315000e+01 -6.969610e+02  0.000000e+00\n",
      "  3.725300e+01 -3.801470e+02 -4.741580e+02  5.850000e-01 -2.691510e+02\n",
      " -7.939613e+02 -6.472340e+02 -6.883560e+02 -6.344470e+02 -2.294690e+02\n",
      " -2.764810e+02 -1.072100e+02 -4.023490e+02 -7.512395e+02 -1.394600e+02\n",
      "  5.034600e+01 -5.769600e+02 -1.204030e+02 -7.342140e+02 -3.725300e+01\n",
      "  0.000000e+00 -4.174000e+02 -5.114110e+02 -3.666800e+01 -3.064040e+02\n",
      " -3.765613e+02 -2.298340e+02 -2.709560e+02 -2.170470e+02  1.879310e+02\n",
      "  1.409190e+02  3.101900e+02  1.505100e+01 -3.338395e+02  2.779400e+02\n",
      "  4.677460e+02 -1.595600e+02  2.969970e+02 -3.168140e+02  3.801470e+02\n",
      "  4.174000e+02  0.000000e+00 -9.401100e+01  3.807320e+02  1.109960e+02\n",
      " -2.825503e+02 -1.358230e+02 -1.769450e+02 -1.230360e+02  2.819420e+02\n",
      "  2.349300e+02  4.042010e+02  1.090620e+02 -2.398285e+02  3.719510e+02\n",
      "  5.617570e+02 -6.554900e+01  3.910080e+02 -2.228030e+02  4.741580e+02\n",
      "  5.114110e+02  9.401100e+01  0.000000e+00  4.747430e+02  2.050070e+02\n",
      " -7.572933e+02 -6.105660e+02 -6.516880e+02 -5.977790e+02 -1.928010e+02\n",
      " -2.398130e+02 -7.054200e+01 -3.656810e+02 -7.145715e+02 -1.027920e+02\n",
      "  8.701400e+01 -5.402920e+02 -8.373500e+01 -6.975460e+02 -5.850000e-01\n",
      "  3.666800e+01 -3.807320e+02 -4.747430e+02  0.000000e+00 -2.697360e+02\n",
      " -4.875573e+02 -3.408300e+02 -3.819520e+02 -3.280430e+02  7.693500e+01\n",
      "  2.992300e+01  1.991940e+02 -9.594500e+01 -4.448355e+02  1.669440e+02\n",
      "  3.567500e+02 -2.705560e+02  1.860010e+02 -4.278100e+02  2.691510e+02\n",
      "  3.064040e+02 -1.109960e+02 -2.050070e+02  2.697360e+02  0.000000e+00]\n",
      "857.804\n",
      "[   0.      187.3209  231.6879  262.2349  267.7389  294.2289  345.0589\n",
      "  333.0989  380.7749  388.7289   87.1329  100.0509  189.5489  157.2249\n",
      "  338.9469  470.8849  567.2339  855.2299  902.7679  957.8549 -187.3209\n",
      "    0.       44.367    74.914    80.418   106.908   157.738   145.778\n",
      "  193.454   201.408  -100.188   -87.27      2.228   -30.096   151.626\n",
      "  283.564   379.913   667.909   715.447   770.534  -231.6879  -44.367\n",
      "    0.       30.547    36.051    62.541   113.371   101.411   149.087\n",
      "  157.041  -144.555  -131.637   -42.139   -74.463   107.259   239.197\n",
      "  335.546   623.542   671.08    726.167  -262.2349  -74.914   -30.547\n",
      "    0.        5.504    31.994    82.824    70.864   118.54    126.494\n",
      " -175.102  -162.184   -72.686  -105.01     76.712   208.65    304.999\n",
      "  592.995   640.533   695.62   -267.7389  -80.418   -36.051    -5.504\n",
      "    0.       26.49     77.32     65.36    113.036   120.99   -180.606\n",
      " -167.688   -78.19   -110.514    71.208   203.146   299.495   587.491\n",
      "  635.029   690.116  -294.2289 -106.908   -62.541   -31.994   -26.49\n",
      "    0.       50.83     38.87     86.546    94.5    -207.096  -194.178\n",
      " -104.68   -137.004    44.718   176.656   273.005   561.001   608.539\n",
      "  663.626  -345.0589 -157.738  -113.371   -82.824   -77.32    -50.83\n",
      "    0.      -11.96     35.716    43.67   -257.926  -245.008  -155.51\n",
      " -187.834    -6.112   125.826   222.175   510.171   557.709   612.796\n",
      " -333.0989 -145.778  -101.411   -70.864   -65.36    -38.87     11.96\n",
      "    0.       47.676    55.63   -245.966  -233.048  -143.55   -175.874\n",
      "    5.848   137.786   234.135   522.131   569.669   624.756  -380.7749\n",
      " -193.454  -149.087  -118.54   -113.036   -86.546   -35.716   -47.676\n",
      "    0.        7.954  -293.642  -280.724  -191.226  -223.55    -41.828\n",
      "   90.11    186.459   474.455   521.993   577.08   -388.7289 -201.408\n",
      " -157.041  -126.494  -120.99    -94.5     -43.67    -55.63     -7.954\n",
      "    0.     -301.596  -288.678  -199.18   -231.504   -49.782    82.156\n",
      "  178.505   466.501   514.039   569.126   -87.1329  100.188   144.555\n",
      "  175.102   180.606   207.096   257.926   245.966   293.642   301.596\n",
      "    0.       12.918   102.416    70.092   251.814   383.752   480.101\n",
      "  768.097   815.635   870.722  -100.0509   87.27    131.637   162.184\n",
      "  167.688   194.178   245.008   233.048   280.724   288.678   -12.918\n",
      "    0.       89.498    57.174   238.896   370.834   467.183   755.179\n",
      "  802.717   857.804  -189.5489   -2.228    42.139    72.686    78.19\n",
      "  104.68    155.51    143.55    191.226   199.18   -102.416   -89.498\n",
      "    0.      -32.324   149.398   281.336   377.685   665.681   713.219\n",
      "  768.306  -157.2249   30.096    74.463   105.01    110.514   137.004\n",
      "  187.834   175.874   223.55    231.504   -70.092   -57.174    32.324\n",
      "    0.      181.722   313.66    410.009   698.005   745.543   800.63\n",
      " -338.9469 -151.626  -107.259   -76.712   -71.208   -44.718     6.112\n",
      "   -5.848    41.828    49.782  -251.814  -238.896  -149.398  -181.722\n",
      "    0.      131.938   228.287   516.283   563.821   618.908  -470.8849\n",
      " -283.564  -239.197  -208.65   -203.146  -176.656  -125.826  -137.786\n",
      "  -90.11    -82.156  -383.752  -370.834  -281.336  -313.66   -131.938\n",
      "    0.       96.349   384.345   431.883   486.97   -567.2339 -379.913\n",
      " -335.546  -304.999  -299.495  -273.005  -222.175  -234.135  -186.459\n",
      " -178.505  -480.101  -467.183  -377.685  -410.009  -228.287   -96.349\n",
      "    0.      287.996   335.534   390.621  -855.2299 -667.909  -623.542\n",
      " -592.995  -587.491  -561.001  -510.171  -522.131  -474.455  -466.501\n",
      " -768.097  -755.179  -665.681  -698.005  -516.283  -384.345  -287.996\n",
      "    0.       47.538   102.625  -902.7679 -715.447  -671.08   -640.533\n",
      " -635.029  -608.539  -557.709  -569.669  -521.993  -514.039  -815.635\n",
      " -802.717  -713.219  -745.543  -563.821  -431.883  -335.534   -47.538\n",
      "    0.       55.087  -957.8549 -770.534  -726.167  -695.62   -690.116\n",
      " -663.626  -612.796  -624.756  -577.08   -569.126  -870.722  -857.804\n",
      " -768.306  -800.63   -618.908  -486.97   -390.621  -102.625   -55.087\n",
      "    0.    ]\n"
     ]
    },
    {
     "data": {
      "text/plain": [
       "'\\nmaxval = values_y[max_ind]\\nmaxage = 0.5 * (bins_y[max_ind] + bins_y[max_ind + 1])\\nprint(maxval, maxage)\\n'"
      ]
     },
     "execution_count": 6,
     "metadata": {},
     "output_type": "execute_result"
    },
    {
     "data": {
      "image/png": "[encoded data removed]",
      "text/plain": [
       "<Figure size 432x288 with 1 Axes>"
      ]
     },
     "metadata": {
      "needs_background": "light"
     },
     "output_type": "display_data"
    }
   ],
   "source": [
    "data_69= !head data/image013269.asc\n",
    "data_71= !head data/image013271.asc\n",
    "\n",
    "import numpy as np\n",
    "a = np.loadtxt(data_69)\n",
    "b = np.loadtxt(data_71)\n",
    "\n",
    "x = np.append(a[:,0],b[:,0])\n",
    "y = np.append(a[:,1],b[:,1])\n",
    "#print(x,y)\n",
    "\n",
    "diff = x - x[:,np.newaxis]\n",
    "diff_y = y - y[:,np.newaxis]\n",
    "sort_c = np.sort(c)\n",
    "#print(diff.flatten())\n",
    "\n",
    "x_sort = (diff.flatten())\n",
    "y_sort = (diff_y.flatten())\n",
    "bins_x = int((x_sort.max()-x_sort.min())//4)\n",
    "bins_y = int((y_sort.max()-y_sort.min())//4)\n",
    "#print(bins_y)\n",
    "print(x_sort)\n",
    "\n",
    "values_x, bins_x, _ = plt.hist(x_sort,bins_x,color='blue')\n",
    "values_y, bins_y, _ = plt.hist(y_sort,bins_y,color='black')\n",
    "\n",
    "#print(len(values_y))\n",
    "\n",
    "max_ind = np.argmax(values_y)\n",
    "print(y_sort[max_ind])\n",
    "print(y_sort)\n",
    "'''\n",
    "maxval = values_y[max_ind]\n",
    "maxage = 0.5 * (bins_y[max_ind] + bins_y[max_ind + 1])\n",
    "print(maxval, maxage)\n",
    "'''\n",
    "#lt.plot\n"
   ]
  },
  {
   "cell_type": "code",
   "execution_count": 15,
   "metadata": {},
   "outputs": [
    {
     "name": "stdout",
     "output_type": "stream",
     "text": [
      "[-892.6463 -849.9245 -849.7623 -828.548  -807.0405 -797.821  -796.5833\n",
      " -788.153  -787.041  -785.664  -761.5853 -754.937  -753.8615 -745.919\n",
      " -745.269  -744.157  -740.1233 -733.132  -732.485  -718.8635 -703.035\n",
      " -701.758  -697.487  -697.4015 -692.09   -690.978  -690.248  -686.7513\n",
      " -678.7423 -676.025  -671.483  -666.76   -657.092  -655.98   -654.5013\n",
      " -649.856  -645.298  -644.0295 -637.069  -636.0205 -635.63   -634.518\n",
      " -628.599  -622.653  -614.858  -614.644  -611.7795 -602.071  -593.396\n",
      " -591.926  -590.403  -583.917  -582.258  -581.146  -580.609  -575.42\n",
      " -574.249  -573.137  -564.4923 -559.676  -550.008  -548.896  -540.422\n",
      " -540.024  -532.015  -527.237  -521.7705 -519.228  -518.96   -517.4803\n",
      " -507.774  -501.034  -500.394  -494.987  -474.7585 -469.667  -465.588\n",
      " -459.999  -458.887  -458.15   -457.579  -453.382  -433.338  -422.655\n",
      " -417.765  -412.987  -411.875  -404.978  -404.971  -391.6123 -375.166\n",
      " -370.753  -369.973  -357.966  -348.8905 -348.511  -343.329  -332.282\n",
      " -328.154  -327.514  -296.787  -296.317  -295.139  -287.13   -287.119\n",
      " -286.007  -285.27   -279.103  -262.889  -244.885  -244.105  -238.145\n",
      " -232.098  -232.091  -222.643  -221.1633 -213.904  -205.895  -197.093\n",
      " -195.261  -178.4415 -175.631  -172.88   -171.02   -170.449  -169.271\n",
      " -163.011  -161.262  -159.5143 -157.065  -152.523  -146.7273 -142.082\n",
      " -137.021  -131.061  -126.338  -125.868  -122.259  -117.841  -116.7925\n",
      " -116.67   -115.558  -114.25   -109.832  -109.639  -107.084  -105.6053\n",
      " -104.4933 -104.0055  -96.063   -95.416   -94.8253  -90.009   -88.177\n",
      "  -85.622   -82.843   -82.629   -74.834   -74.436   -64.689   -64.0983\n",
      "  -62.8835  -61.7715  -61.649   -61.381   -56.46    -55.021   -53.909\n",
      "  -53.372   -53.179   -52.1035  -51.902   -47.012   -42.884   -42.7218\n",
      "  -42.234   -41.507   -41.122   -40.395   -34.998   -32.25    -30.727\n",
      "  -24.241   -21.462   -21.3765  -12.787   -10.78     -9.668    -8.009\n",
      "   -1.112     0.        0.        0.        0.        0.        0.\n",
      "    0.        0.        0.        0.        0.        0.        0.\n",
      "    0.        0.        0.        0.        0.        0.        0.\n",
      "    1.112     8.009     9.668    10.78     12.787    21.3765   21.462\n",
      "   24.241    30.727    32.25     34.998    40.395    41.122    41.507\n",
      "   42.234    42.7218   42.884    47.012    51.902    52.1035   53.179\n",
      "   53.372    53.909    55.021    56.46     61.381    61.649    61.7715\n",
      "   62.8835   64.0983   64.689    74.436    74.834    82.629    82.843\n",
      "   85.622    88.177    90.009    94.8253   95.416    96.063   104.0055\n",
      "  104.4933  105.6053  107.084   109.639   109.832   114.25    115.558\n",
      "  116.67    116.7925  117.841   122.259   125.868   126.338   131.061\n",
      "  137.021   142.082   146.7273  152.523   157.065   159.5143  161.262\n",
      "  163.011   169.271   170.449   171.02    172.88    175.631   178.4415\n",
      "  195.261   197.093   205.895   213.904   221.1633  222.643   232.091\n",
      "  232.098   238.145   244.105   244.885   262.889   279.103   285.27\n",
      "  286.007   287.119   287.13    295.139   296.317   296.787   327.514\n",
      "  328.154   332.282   343.329   348.511   348.8905  357.966   369.973\n",
      "  370.753   375.166   391.6123  404.971   404.978   411.875   412.987\n",
      "  417.765   422.655   433.338   453.382   457.579   458.15    458.887\n",
      "  459.999   465.588   469.667   474.7585  494.987   500.394   501.034\n",
      "  507.774   517.4803  518.96    519.228   521.7705  527.237   532.015\n",
      "  540.024   540.422   548.896   550.008   559.676   564.4923  573.137\n",
      "  574.249   575.42    580.609   581.146   582.258   583.917   590.403\n",
      "  591.926   593.396   602.071   611.7795  614.644   614.858   622.653\n",
      "  628.599   634.518   635.63    636.0205  637.069   644.0295  645.298\n",
      "  649.856   654.5013  655.98    657.092   666.76    671.483   676.025\n",
      "  678.7423  686.7513  690.248   690.978   692.09    697.4015  697.487\n",
      "  701.758   703.035   718.8635  732.485   733.132   740.1233  744.157\n",
      "  745.269   745.919   753.8615  754.937   761.5853  785.664   787.041\n",
      "  788.153   796.5833  797.821   807.0405  828.548   849.7623  849.9245\n",
      "  892.6463]\n"
     ]
    },
    {
     "data": {
      "text/plain": [
       "'\\nmaxval = values_y[max_ind]\\nmaxage = 0.5 * (bins_y[max_ind] + bins_y[max_ind + 1])\\nprint(maxval, maxage)\\n'"
      ]
     },
     "execution_count": 15,
     "metadata": {},
     "output_type": "execute_result"
    },
    {
     "data": {
      "image/png": "[encoded data removed]",
      "text/plain": [
       "<Figure size 432x288 with 1 Axes>"
      ]
     },
     "metadata": {
      "needs_background": "light"
     },
     "output_type": "display_data"
    }
   ],
   "source": [
    "data_69= !head data/image013269.asc\n",
    "data_71= !head data/image013271.asc\n",
    "data_70= !head data/image013270.asc\n",
    "\n",
    "import numpy as np\n",
    "import matplotlib.pyplot as plt \n",
    "\n",
    "a = np.loadtxt(data_70)\n",
    "b = np.loadtxt(data_69)\n",
    "c = np.loadtxt(data_71)\n",
    "\n",
    "x = np.append(b[:,0],a[:,0])\n",
    "y = np.append(b[:,1],a[:,1])\n",
    "#print(x,y)\n",
    "\n",
    "diff =  (x - x[:,np.newaxis])\n",
    "diff_y = y - y[:,np.newaxis]\n",
    "\n",
    "\n",
    "x_sort_21 = np.sort(diff.flatten())\n",
    "y_sort = np.sort(diff_y.flatten())\n",
    "bins_x = int((x_sort[-1]-x_sort_21[0])//4)\n",
    "bins_y = int((y_sort[-1]-y_sort[0])//4)\n",
    "print(x_sort_21)\n",
    "\n",
    "values_x, bins_x, _ = plt.hist(x_sort,bins_x,color='blue')\n",
    "values_y, bins_y, _ = plt.hist(y_sort,bins_y,color='black')\n",
    "\n",
    "#print(len(values_y))\n",
    "\n",
    "\n",
    "'''\n",
    "maxval = values_y[max_ind]\n",
    "maxage = 0.5 * (bins_y[max_ind] + bins_y[max_ind + 1])\n",
    "print(maxval, maxage)\n",
    "'''\n",
    "#lt.plot\n",
    "#np.subtract(x_sort,x_sort_x)"
   ]
  },
  {
   "cell_type": "code",
   "execution_count": 17,
   "metadata": {},
   "outputs": [
    {
     "name": "stdout",
     "output_type": "stream",
     "text": [
      "[-8.32899e+02 -8.28548e+02 -7.97821e+02 -7.90015e+02 -7.88153e+02\n",
      " -7.85664e+02 -7.84560e+02 -7.80209e+02 -7.54937e+02 -7.49482e+02\n",
      " -7.45269e+02 -7.39814e+02 -7.36836e+02 -7.34214e+02 -7.32485e+02\n",
      " -7.29863e+02 -7.01838e+02 -7.01758e+02 -6.99136e+02 -6.97546e+02\n",
      " -6.97487e+02 -6.96961e+02 -6.93195e+02 -6.92610e+02 -6.92090e+02\n",
      " -6.89468e+02 -6.80376e+02 -6.76025e+02 -6.75645e+02 -6.71483e+02\n",
      " -6.66760e+02 -6.62468e+02 -6.61883e+02 -6.57092e+02 -6.52800e+02\n",
      " -6.52215e+02 -6.45298e+02 -6.35630e+02 -6.32761e+02 -6.28599e+02\n",
      " -6.27306e+02 -6.23144e+02 -6.18995e+02 -6.14644e+02 -6.13811e+02\n",
      " -6.10096e+02 -6.09460e+02 -5.83917e+02 -5.79582e+02 -5.78733e+02\n",
      " -5.76960e+02 -5.75420e+02 -5.74249e+02 -5.72798e+02 -5.69065e+02\n",
      " -5.67212e+02 -5.61757e+02 -5.44584e+02 -5.40422e+02 -5.40292e+02\n",
      " -5.39707e+02 -5.36130e+02 -5.35545e+02 -5.23122e+02 -5.18960e+02\n",
      " -5.16085e+02 -5.14033e+02 -5.11411e+02 -4.79035e+02 -4.74743e+02\n",
      " -4.74158e+02 -4.73201e+02 -4.67746e+02 -4.61741e+02 -4.57579e+02\n",
      " -4.57573e+02 -4.56557e+02 -4.52395e+02 -4.27810e+02 -4.23459e+02\n",
      " -4.20022e+02 -4.17400e+02 -4.05089e+02 -3.96192e+02 -3.92732e+02\n",
      " -3.91008e+02 -3.85024e+02 -3.83064e+02 -3.80732e+02 -3.80147e+02\n",
      " -3.63562e+02 -3.62205e+02 -3.56750e+02 -3.16814e+02 -3.12463e+02\n",
      " -3.09026e+02 -3.06404e+02 -3.02181e+02 -2.96997e+02 -2.81736e+02\n",
      " -2.74028e+02 -2.72068e+02 -2.70556e+02 -2.69736e+02 -2.69151e+02\n",
      " -2.66394e+02 -2.52566e+02 -2.22803e+02 -2.19088e+02 -2.18452e+02\n",
      " -2.13904e+02 -2.05007e+02 -1.91185e+02 -1.87725e+02 -1.86001e+02\n",
      " -1.78057e+02 -1.76204e+02 -1.71020e+02 -1.70749e+02 -1.65565e+02\n",
      " -1.61416e+02 -1.59560e+02 -1.57254e+02 -1.57065e+02 -1.55398e+02\n",
      " -1.52903e+02 -1.52523e+02 -1.35938e+02 -1.35353e+02 -1.31061e+02\n",
      " -1.26338e+02 -1.23025e+02 -1.22176e+02 -1.20403e+02 -1.17841e+02\n",
      " -1.16670e+02 -1.15219e+02 -1.12508e+02 -1.10996e+02 -1.09639e+02\n",
      " -1.04184e+02 -9.86850e+01 -9.60630e+01 -9.40110e+01 -9.30540e+01\n",
      " -9.24690e+01 -8.81770e+01 -8.80270e+01 -8.75990e+01 -8.70140e+01\n",
      " -8.37350e+01 -8.31500e+01 -8.28430e+01 -8.27220e+01 -7.85510e+01\n",
      " -7.79660e+01 -6.65650e+01 -6.55490e+01 -6.13870e+01 -6.13810e+01\n",
      " -5.64600e+01 -5.58010e+01 -5.38380e+01 -5.31790e+01 -5.03460e+01\n",
      " -4.83390e+01 -4.77240e+01 -4.47460e+01 -4.28840e+01 -4.03950e+01\n",
      " -3.98750e+01 -3.92900e+01 -3.72530e+01 -3.66680e+01 -3.50780e+01\n",
      " -3.49980e+01 -3.23760e+01 -3.07270e+01 -2.14620e+01 -1.71700e+01\n",
      " -1.65850e+01 -9.66800e+00 -5.45500e+00 -5.18400e+00 -4.87700e+00\n",
      " -4.35100e+00 -4.29200e+00 -4.16200e+00 -2.62200e+00 -5.85000e-01\n",
      "  0.00000e+00  0.00000e+00  0.00000e+00  0.00000e+00  0.00000e+00\n",
      "  0.00000e+00  0.00000e+00  0.00000e+00  0.00000e+00  0.00000e+00\n",
      "  0.00000e+00  0.00000e+00  0.00000e+00  0.00000e+00  0.00000e+00\n",
      "  0.00000e+00  0.00000e+00  0.00000e+00  0.00000e+00  0.00000e+00\n",
      "  5.85000e-01  2.62200e+00  4.16200e+00  4.29200e+00  4.35100e+00\n",
      "  4.87700e+00  5.18400e+00  5.45500e+00  9.66800e+00  1.65850e+01\n",
      "  1.71700e+01  2.14620e+01  3.07270e+01  3.23760e+01  3.49980e+01\n",
      "  3.50780e+01  3.66680e+01  3.72530e+01  3.92900e+01  3.98750e+01\n",
      "  4.03950e+01  4.28840e+01  4.47460e+01  4.77240e+01  4.83390e+01\n",
      "  5.03460e+01  5.31790e+01  5.38380e+01  5.58010e+01  5.64600e+01\n",
      "  6.13810e+01  6.13870e+01  6.55490e+01  6.65650e+01  7.79660e+01\n",
      "  7.85510e+01  8.27220e+01  8.28430e+01  8.31500e+01  8.37350e+01\n",
      "  8.70140e+01  8.75990e+01  8.80270e+01  8.81770e+01  9.24690e+01\n",
      "  9.30540e+01  9.40110e+01  9.60630e+01  9.86850e+01  1.04184e+02\n",
      "  1.09639e+02  1.10996e+02  1.12508e+02  1.15219e+02  1.16670e+02\n",
      "  1.17841e+02  1.20403e+02  1.22176e+02  1.23025e+02  1.26338e+02\n",
      "  1.31061e+02  1.35353e+02  1.35938e+02  1.52523e+02  1.52903e+02\n",
      "  1.55398e+02  1.57065e+02  1.57254e+02  1.59560e+02  1.61416e+02\n",
      "  1.65565e+02  1.70749e+02  1.71020e+02  1.76204e+02  1.78057e+02\n",
      "  1.86001e+02  1.87725e+02  1.91185e+02  2.05007e+02  2.13904e+02\n",
      "  2.18452e+02  2.19088e+02  2.22803e+02  2.52566e+02  2.66394e+02\n",
      "  2.69151e+02  2.69736e+02  2.70556e+02  2.72068e+02  2.74028e+02\n",
      "  2.81736e+02  2.96997e+02  3.02181e+02  3.06404e+02  3.09026e+02\n",
      "  3.12463e+02  3.16814e+02  3.56750e+02  3.62205e+02  3.63562e+02\n",
      "  3.80147e+02  3.80732e+02  3.83064e+02  3.85024e+02  3.91008e+02\n",
      "  3.92732e+02  3.96192e+02  4.05089e+02  4.17400e+02  4.20022e+02\n",
      "  4.23459e+02  4.27810e+02  4.52395e+02  4.56557e+02  4.57573e+02\n",
      "  4.57579e+02  4.61741e+02  4.67746e+02  4.73201e+02  4.74158e+02\n",
      "  4.74743e+02  4.79035e+02  5.11411e+02  5.14033e+02  5.16085e+02\n",
      "  5.18960e+02  5.23122e+02  5.35545e+02  5.36130e+02  5.39707e+02\n",
      "  5.40292e+02  5.40422e+02  5.44584e+02  5.61757e+02  5.67212e+02\n",
      "  5.69065e+02  5.72798e+02  5.74249e+02  5.75420e+02  5.76960e+02\n",
      "  5.78733e+02  5.79582e+02  5.83917e+02  6.09460e+02  6.10096e+02\n",
      "  6.13811e+02  6.14644e+02  6.18995e+02  6.23144e+02  6.27306e+02\n",
      "  6.28599e+02  6.32761e+02  6.35630e+02  6.45298e+02  6.52215e+02\n",
      "  6.52800e+02  6.57092e+02  6.61883e+02  6.62468e+02  6.66760e+02\n",
      "  6.71483e+02  6.75645e+02  6.76025e+02  6.80376e+02  6.89468e+02\n",
      "  6.92090e+02  6.92610e+02  6.93195e+02  6.96961e+02  6.97487e+02\n",
      "  6.97546e+02  6.99136e+02  7.01758e+02  7.01838e+02  7.29863e+02\n",
      "  7.32485e+02  7.34214e+02  7.36836e+02  7.39814e+02  7.45269e+02\n",
      "  7.49482e+02  7.54937e+02  7.80209e+02  7.84560e+02  7.85664e+02\n",
      "  7.88153e+02  7.90015e+02  7.97821e+02  8.28548e+02  8.32899e+02]\n"
     ]
    },
    {
     "data": {
      "text/plain": [
       "'\\nmaxval = values_y[max_ind]\\nmaxage = 0.5 * (bins_y[max_ind] + bins_y[max_ind + 1])\\nprint(maxval, maxage)\\n'"
      ]
     },
     "execution_count": 17,
     "metadata": {},
     "output_type": "execute_result"
    },
    {
     "data": {
      "image/png": "[encoded data removed]",
      "text/plain": [
       "<Figure size 432x288 with 1 Axes>"
      ]
     },
     "metadata": {
      "needs_background": "light"
     },
     "output_type": "display_data"
    }
   ],
   "source": [
    "data_69= !head data/image013269.asc\n",
    "data_71= !head data/image013271.asc\n",
    "data_70= !head data/image013270.asc\n",
    "\n",
    "import numpy as np\n",
    "import matplotlib.pyplot as plt \n",
    "\n",
    "a = np.loadtxt(data_70)\n",
    "b = np.loadtxt(data_69)\n",
    "c = np.loadtxt(data_71)\n",
    "\n",
    "x = np.append(c[:,0],a[:,0])\n",
    "y = np.append(c[:,1],a[:,1])\n",
    "#print(x,y)\n",
    "\n",
    "diff =  (x - x[:,np.newaxis])\n",
    "diff_y = y - y[:,np.newaxis]\n",
    "\n",
    "\n",
    "x_sort_31 = np.sort(diff.flatten())\n",
    "y_sort = np.sort(diff_y.flatten())\n",
    "bins_x = int((x_sort_31[-1]-x_sort_31[0])//4)\n",
    "bins_y = int((y_sort[-1]-y_sort[0])//4)\n",
    "print(x_sort_31)\n",
    "\n",
    "values_x, bins_x, _ = plt.hist(x_sort,bins_x,color='blue')\n",
    "values_y, bins_y, _ = plt.hist(y_sort,bins_y,color='black')\n",
    "\n",
    "#print(len(values_y))\n",
    "\n",
    "\n",
    "'''\n",
    "maxval = values_y[max_ind]\n",
    "maxage = 0.5 * (bins_y[max_ind] + bins_y[max_ind + 1])\n",
    "print(maxval, maxage)\n",
    "'''\n",
    "#lt.plot\n",
    "#np.subtract(x_sort,x_sort_x)"
   ]
  },
  {
   "cell_type": "code",
   "execution_count": 19,
   "metadata": {},
   "outputs": [
    {
     "data": {
      "text/plain": [
       "array([-59.7473, -21.3765, -51.9413, -38.533 , -18.8875, -12.157 ,\n",
       "       -12.0233,  -7.944 , -32.104 , -36.182 , -16.3163, -15.123 ,\n",
       "       -17.0255, -11.705 , -12.784 , -14.294 , -38.2853, -31.374 ,\n",
       "       -33.349 , -21.3175,  -5.548 ,  -4.797 ,  -4.292 ,  -4.7915,\n",
       "         0.    ,  -1.51  ,  -9.872 , -10.7263,  -3.0973,  -4.542 ,\n",
       "        -4.723 ,  -4.292 ,   4.791 ,   1.112 ,  -1.7013,   2.359 ,\n",
       "         0.    ,  -8.3995,  -4.308 ,  -7.4215,  -8.324 , -11.374 ,\n",
       "        -9.604 ,  -8.009 ,  -1.047 ,  -4.548 ,  -2.3195, -18.154 ,\n",
       "       -13.814 , -13.193 , -13.443 ,  -8.497 ,  -8.009 ,  -8.348 ,\n",
       "       -11.544 ,  -8.208 , -12.492 , -28.553 , -24.0703, -19.384 ,\n",
       "       -10.301 , -12.766 ,  -4.877 , -16.902 , -13.055 , -11.152 ,\n",
       "        -7.7375,  -7.817 , -39.925 , -42.7373, -33.616 , -27.833 ,\n",
       "       -32.648 , -33.246 , -17.1795, -12.094 ,  -9.031 ,  -7.604 ,\n",
       "       -31.077 , -34.691 , -37.557 , -35.982 , -28.249 , -26.463 ,\n",
       "       -25.033 , -21.979 , -26.851 , -21.914 , -24.239 , -11.4653,\n",
       "       -11.604 ,  -8.548 , -13.223 , -41.152 , -36.4275, -39.485 ,\n",
       "       -36.925 , -30.101 , -31.157 , -45.778 , -22.759 , -24.249 ,\n",
       "       -24.583 , -17.394 , -17.968 , -19.613 , -32.704 , -56.3   ,\n",
       "       -43.801 , -26.433 , -30.201 , -33.138 , -40.913 , -44.366 ,\n",
       "       -36.642 , -43.1063, -37.7   , -34.875 , -26.344 , -29.696 ,\n",
       "       -17.0255, -16.071 , -15.626 , -13.955 , -15.051 , -16.368 ,\n",
       "       -10.488 , -25.324 , -24.1613, -26.004 , -26.185 , -23.7023,\n",
       "       -19.906 , -16.618 , -13.22  ,  -9.668 , -10.649 ,  -9.751 ,\n",
       "        -6.845 ,  -7.1535, -12.486 , -16.873 , -18.187 , -15.821 ,\n",
       "       -16.585 , -14.615 , -17.4283, -16.4663, -16.4065,  -9.049 ,\n",
       "       -11.681 , -11.6753,  -7.166 ,  -5.455 ,  -7.071 ,  -4.877 ,\n",
       "       -16.064 ,  -9.285 , -13.049 ,  -3.308 ,  -7.6383,  -7.0825,\n",
       "        -7.9335,  -8.47  , -11.035 ,  -8.121 ,  -7.297 ,  -9.163 ,\n",
       "       -10.488 , -12.784 , -12.2285, -12.612 ,  -9.759 ,  -6.216 ,\n",
       "        -7.6438,  -7.236 ,  -9.131 , -10.395 , -18.933 , -17.828 ,\n",
       "       -15.665 , -21.059 , -18.786 , -16.278 , -16.4995,  -8.436 ,\n",
       "        -6.488 ,  -5.506 ,  -5.387 ,  -0.527 ,   0.    ,   0.    ,\n",
       "         0.    ,   0.    ,   0.    ,   0.    ,   0.    ,   0.    ,\n",
       "         0.    ,   0.    ,   0.    ,   0.    ,   0.    ,   0.    ,\n",
       "         0.    ,   0.    ,   0.    ,   0.    ,   0.    ,   0.    ,\n",
       "         0.527 ,   5.387 ,   5.506 ,   6.488 ,   8.436 ,  16.4995,\n",
       "        16.278 ,  18.786 ,  21.059 ,  15.665 ,  17.828 ,  18.933 ,\n",
       "        10.395 ,   9.131 ,   7.236 ,   7.6438,   6.216 ,   9.759 ,\n",
       "        12.612 ,  12.2285,  12.784 ,  10.488 ,   9.163 ,   7.297 ,\n",
       "         8.121 ,  11.035 ,   8.47  ,   7.9335,   7.0825,   7.6383,\n",
       "         3.308 ,  13.049 ,   9.285 ,  16.064 ,   4.877 ,   7.071 ,\n",
       "         5.455 ,   7.166 ,  11.6753,  11.681 ,   9.049 ,  16.4065,\n",
       "        16.4663,  17.4283,  14.615 ,  16.585 ,  15.821 ,  18.187 ,\n",
       "        16.873 ,  12.486 ,   7.1535,   6.845 ,   9.751 ,  10.649 ,\n",
       "         9.668 ,  13.22  ,  16.618 ,  19.906 ,  23.7023,  26.185 ,\n",
       "        26.004 ,  24.1613,  25.324 ,  10.488 ,  16.368 ,  15.051 ,\n",
       "        13.955 ,  15.626 ,  16.071 ,  17.0255,  29.696 ,  26.344 ,\n",
       "        34.875 ,  37.7   ,  43.1063,  36.642 ,  44.366 ,  40.913 ,\n",
       "        33.138 ,  30.201 ,  26.433 ,  43.801 ,  56.3   ,  32.704 ,\n",
       "        19.613 ,  17.968 ,  17.394 ,  24.583 ,  24.249 ,  22.759 ,\n",
       "        45.778 ,  31.157 ,  30.101 ,  36.925 ,  39.485 ,  36.4275,\n",
       "        41.152 ,  13.223 ,   8.548 ,  11.604 ,  11.4653,  24.239 ,\n",
       "        21.914 ,  26.851 ,  21.979 ,  25.033 ,  26.463 ,  28.249 ,\n",
       "        35.982 ,  37.557 ,  34.691 ,  31.077 ,   7.604 ,   9.031 ,\n",
       "        12.094 ,  17.1795,  33.246 ,  32.648 ,  27.833 ,  33.616 ,\n",
       "        42.7373,  39.925 ,   7.817 ,   7.7375,  11.152 ,  13.055 ,\n",
       "        16.902 ,   4.877 ,  12.766 ,  10.301 ,  19.384 ,  24.0703,\n",
       "        28.553 ,  12.492 ,   8.208 ,  11.544 ,   8.348 ,   8.009 ,\n",
       "         8.497 ,  13.443 ,  13.193 ,  13.814 ,  18.154 ,   2.3195,\n",
       "         4.548 ,   1.047 ,   8.009 ,   9.604 ,  11.374 ,   8.324 ,\n",
       "         7.4215,   4.308 ,   8.3995,   0.    ,  -2.359 ,   1.7013,\n",
       "        -1.112 ,  -4.791 ,   4.292 ,   4.723 ,   4.542 ,   3.0973,\n",
       "        10.7263,   9.872 ,   1.51  ,   0.    ,   4.7915,   4.292 ,\n",
       "         4.797 ,   5.548 ,  21.3175,  33.349 ,  31.374 ,  38.2853,\n",
       "        14.294 ,  12.784 ,  11.705 ,  17.0255,  15.123 ,  16.3163,\n",
       "        36.182 ,  32.104 ,   7.944 ,  12.0233,  12.157 ,  18.8875,\n",
       "        38.533 ,  51.9413,  21.3765,  59.7473])"
      ]
     },
     "execution_count": 19,
     "metadata": {},
     "output_type": "execute_result"
    }
   ],
   "source": [
    "np.subtract(x_sort_21,x_sort_31)"
   ]
  },
  {
   "cell_type": "code",
   "execution_count": null,
   "metadata": {},
   "outputs": [],
   "source": [
    "import scipy.optimize as so \n",
    "\n",
    "so.curve_fit(x_sort_21,x_sort_31)"
   ]
  },
  {
   "cell_type": "code",
   "execution_count": 27,
   "metadata": {},
   "outputs": [
    {
     "name": "stdout",
     "output_type": "stream",
     "text": [
      "-690.248 21.0\n"
     ]
    },
    {
     "data": {
      "image/png": "[encoded data removed]",
      "text/plain": [
       "<Figure size 432x288 with 1 Axes>"
      ]
     },
     "metadata": {
      "needs_background": "light"
     },
     "output_type": "display_data"
    }
   ],
   "source": [
    "data_69= !head data/image013269.asc # I read the data from image013269.asc\n",
    "data_70= !head data/image013270.asc # I read the data from image013270.asc\n",
    "data_71= !head data/image013271.asc # I read the data from image013271.asc\n",
    "\n",
    "c_1=np.loadtxt(data_70)\n",
    "c_2=np.loadtxt(data_69)\n",
    "c_3=np.loadtxt(data_71)\n",
    "x1 = np.append(c_2[:,0],c_1[:,0]) \n",
    "y1 = np.append(c_2[:,1],c_1[:,1]) \n",
    "#print(x,y)\n",
    "\n",
    "d21_x1 = x1 - x1[:,np.newaxis] # I use np.newaxis to make x, a column vector by inserting an axis along second dimension and then i subtract it from x to get the task mentioned in the step 1 of the alogorithm provided\n",
    "#diff_y = y - y[:,np.newaxis] # do the same for y axis\n",
    "#sort_c = np.sort(c)\n",
    "#print(diff.flatten())\n",
    "\n",
    "d21__x_1D =d21_x1.flatten()\n",
    "bins_x = int((d21__x_1D.max()-d21__x_1D.min())//4)\n",
    "values_x, bins_x, _ = plt.hist(d21__x_1D,bins_x,color='blue')\n",
    "\n",
    "max_ind = np.argmax(values_x)\n",
    "maxval_21 = d21__x_1D[max_ind]\n",
    "t = values_x[max_ind]\n",
    "print(maxval_21,t)"
   ]
  },
  {
   "cell_type": "code",
   "execution_count": 28,
   "metadata": {},
   "outputs": [
    {
     "name": "stdout",
     "output_type": "stream",
     "text": [
      "-457.573 22.0\n"
     ]
    },
    {
     "data": {
      "image/png": "[encoded data removed]",
      "text/plain": [
       "<Figure size 432x288 with 1 Axes>"
      ]
     },
     "metadata": {
      "needs_background": "light"
     },
     "output_type": "display_data"
    }
   ],
   "source": [
    "x1 = np.append(c_3[:,0],c_1[:,0]) \n",
    "y1 = np.append(c_3[:,1],c_1[:,1]) \n",
    "#print(x,y)\n",
    "\n",
    "d31_x1 = x1 - x1[:,np.newaxis] # I use np.newaxis to make x, a column vector by inserting an axis along second dimension and then i subtract it from x to get the task mentioned in the step 1 of the alogorithm provided\n",
    "#diff_y = y - y[:,np.newaxis] # do the same for y axis\n",
    "#sort_c = np.sort(c)\n",
    "#print(diff.flatten())\n",
    "\n",
    "d31__x_1D =d31_x1.flatten()\n",
    "bins_x = int((d31__x_1D.max()-d31__x_1D.min())//4)\n",
    "values_x, bins_x, _ = plt.hist(d31__x_1D,bins_x,color='blue')\n",
    "\n",
    "max_ind = np.argmax(values_x)\n",
    "maxval_31 = d31__x_1D[max_ind]\n",
    "t = values_x[max_ind]\n",
    "print(maxval_31,t)"
   ]
  },
  {
   "cell_type": "code",
   "execution_count": 29,
   "metadata": {},
   "outputs": [
    {
     "name": "stdout",
     "output_type": "stream",
     "text": [
      "-232.67500000000007\n"
     ]
    }
   ],
   "source": [
    "c=(-maxval_31+maxval_21)\n",
    "print(c)"
   ]
  },
  {
   "cell_type": "code",
   "execution_count": null,
   "metadata": {},
   "outputs": [],
   "source": []
  },
  {
   "cell_type": "code",
   "execution_count": 69,
   "metadata": {},
   "outputs": [
    {
     "name": "stdout",
     "output_type": "stream",
     "text": [
      "-627.3059999999999 21.0\n"
     ]
    },
    {
     "data": {
      "image/png": "[encoded data removed]",
      "text/plain": [
       "<Figure size 432x288 with 1 Axes>"
      ]
     },
     "metadata": {
      "needs_background": "light"
     },
     "output_type": "display_data"
    }
   ],
   "source": [
    "x1 = np.append(c_2[:,0],c_3[:,0]) \n",
    "y1 = np.append(c_2[:,1],c_3[:,1]) \n",
    "#print(x,y)\n",
    "\n",
    "d31_x1 = x1 - x1[:,np.newaxis] # I use np.newaxis to make x, a column vector by inserting an axis along second dimension and then i subtract it from x to get the task mentioned in the step 1 of the alogorithm provided\n",
    "#diff_y = y - y[:,np.newaxis] # do the same for y axis\n",
    "#sort_c = np.sort(c)\n",
    "#print(diff.flatten())\n",
    "\n",
    "d31__x_1D =d31_x1.flatten()\n",
    "bins_x = int((d31__x_1D.max()-d31__x_1D.min())//4)\n",
    "values_x, bins_x, _ = plt.hist(d31__x_1D,bins_x,color='blue')\n",
    "\n",
    "max_ind = np.argmax(values_x)\n",
    "maxval_31 = d31__x_1D[max_ind]\n",
    "t = values_x[max_ind]\n",
    "print(maxval_31,t)"
   ]
  },
  {
   "cell_type": "code",
   "execution_count": 35,
   "metadata": {},
   "outputs": [
    {
     "name": "stdout",
     "output_type": "stream",
     "text": [
      "['/home/jovyan//Project_3/data/image013269.asc', '/home/jovyan//Project_3/data/image013270.asc', '/home/jovyan//Project_3/data/image013271.asc', '/home/jovyan//Project_3/data/image013272.asc', '/home/jovyan//Project_3/data/image013273.asc', '/home/jovyan//Project_3/data/image013274.asc']\n",
      "6\n"
     ]
    }
   ],
   "source": [
    "import glob as glob\n",
    "directory= glob.glob('/home/jovyan//Project_3/data/*.asc')\n",
    "print(directory)\n",
    "print(len(directory))"
   ]
  },
  {
   "cell_type": "code",
   "execution_count": 68,
   "metadata": {},
   "outputs": [
    {
     "name": "stdout",
     "output_type": "stream",
     "text": [
      "1\n",
      "2\n",
      "3\n",
      "4\n",
      "5\n",
      "2\n",
      "3\n",
      "4\n",
      "5\n",
      "3\n",
      "4\n",
      "5\n",
      "4\n",
      "5\n",
      "5\n",
      "[ 404.978   751.868   651.871   646.65    143.951   205.239    30.727\n",
      "  676.025  -512.016  -426.256  -219.186    74.954     0.      103.958\n",
      "  853.9144]\n"
     ]
    }
   ],
   "source": [
    "import numpy as np\n",
    "import glob\n",
    "\n",
    "data = glob.glob('/home/jovyan/Project_3/data/*.asc')\n",
    "#print(len(d))\n",
    "\n",
    "maxval_list = []\n",
    "if len(data) >= 2:\n",
    "    for i in range(len(data)+1):\n",
    "        #print(i)\n",
    "        for j in range(i+1,len(data)):\n",
    "            print(j)\n",
    "            \n",
    "            \n",
    "            c1 = np.loadtxt(data[i])\n",
    "            #print(c1)\n",
    "        \n",
    "            c2 = np.loadtxt(data[j])\n",
    "           # print(c2)\n",
    "            \n",
    "            x = np.append(c1[:,0],c2[:,0])\n",
    "            diff =  (x - x[:,np.newaxis]).flatten()\n",
    "            bins_x = int((diff.max()-diff.min())//4)\n",
    "            values_x, bins_x = np.histogram(diff,bins_x)\n",
    "            max_ind = np.argmax(values_x)\n",
    "            maxval = diff[max_ind]\n",
    "            maxval_list = np.append(maxval_list,maxval)\n",
    "print(maxval_list)\n",
    "        "
   ]
  },
  {
   "cell_type": "code",
   "execution_count": null,
   "metadata": {},
   "outputs": [],
   "source": []
  },
  {
   "cell_type": "code",
   "execution_count": null,
   "metadata": {},
   "outputs": [],
   "source": []
  },
  {
   "cell_type": "code",
   "execution_count": null,
   "metadata": {},
   "outputs": [],
   "source": []
  },
  {
   "cell_type": "code",
   "execution_count": null,
   "metadata": {},
   "outputs": [],
   "source": []
  },
  {
   "cell_type": "code",
   "execution_count": null,
   "metadata": {},
   "outputs": [],
   "source": []
  },
  {
   "cell_type": "code",
   "execution_count": null,
   "metadata": {},
   "outputs": [],
   "source": []
  },
  {
   "cell_type": "code",
   "execution_count": null,
   "metadata": {},
   "outputs": [],
   "source": []
  },
  {
   "cell_type": "markdown",
   "metadata": {},
   "source": [
    "## Task 2"
   ]
  },
  {
   "cell_type": "markdown",
   "metadata": {},
   "source": [
    "Write a Python program to implement the algorithm above and to estimate the $x-$ and $y-$offsets between the object patterns in catalogues [data/image013269.asc](data/image013269.asc) and [data/image013271.asc](data/image013271.asc). Your program should plot the two histograms of the $x-$ and $y-$ distances and print the estimated offsets.\n",
    "\n",
    "**Hints:**\n",
    "1. First, read the data and store the $x-$ and $y-$ coordinates from each image in one-dimensional arrays. To obtain from those the arrays of all distances between the two catalogues is a *one-line* broadcast operation for each of the $x-$ and $y-$coordinates. You should have no difficulties with it if you understood the *Route 66*-problem from the lecture 06 review questions. If you have the distances written in a two-dimensional matrix, you can convert it to a one-dimensional array with the `np.flatten` command.\n",
    "\n",
    "2. To analyse the histograms for the maximum-count bins and to estimate the distances, see the last task from the lecture 06 review questions. Up to what accuracy can you determine the shifts with this method?\n",
    "\n",
    "3. For this and later tasks, I found the function `enumerate` very useful to write more compact programs. Just have a look at the documentation but do not feel obliged to use it."
   ]
  },
  {
   "cell_type": "markdown",
   "metadata": {},
   "source": [
    "## Task 3"
   ]
  },
  {
   "cell_type": "markdown",
   "metadata": {},
   "source": [
    "We have six catalogues and we want to estimate shifts between *all* of them. Having the algorithm for pairwise shifts (Task 2), one could estimate shifts between three catalogues `c_1.asc`, `c_2.asc` and `c_3.asc` in the following two ways:\n",
    "1. Obtain with Task 2 the distances between `c_1.asc` and `c_3.asc`. This be $d_{13}$. Similarily, the distance between `c_1.asc` and `c_2.asc` with Task 2 be $d_{12}$. Then the distance between `c_2.asc` and `c_3.asc` must be $d_{23} = d_{21} - d_{31}$.\n",
    "2. Perform the same steps as in (1.) but estimate $d_{23}$ with Task 2 as well.\n",
    "\n",
    "Perform this analysis for several combinations of the catalogues `image013269.asc .. image013274.asc`. What do you observe? If you obtain different results for $d_{23}$ with both methods, why is this the case?"
   ]
  },
  {
   "cell_type": "markdown",
   "metadata": {},
   "source": [
    "## Task 4"
   ]
  },
  {
   "cell_type": "markdown",
   "metadata": {},
   "source": [
    "Task 3 should show you that a pure pairwise analysis to obtain consistent offset values between more than two catalogues is not optimal. In this task, we want to estimate the shifts taking into account all available data points simultaneously."
   ]
  },
  {
   "cell_type": "markdown",
   "metadata": {},
   "source": [
    "We want to proceed as follows:\n",
    "\n",
    "Using the algorithm of Task 2, we obtain estimates $d_{ij}$ for *all* pairs of distances between all involved catalogues. We write the $d_{ij}$ as follows:\n",
    "\n",
    "$$\n",
    "\\begin{eqnarray}\n",
    "  d_{12} & = d_{1} - d_{2} + e_{12}\\\\\n",
    "  d_{13} & = d_{1} - d_{3} + e_{13}\\\\\n",
    "  d_{14} & = d_{1} - d_{4} + e_{14}\\\\\n",
    "  \\vdots \\\\\n",
    "  d_{23} & = d_{2} - d_{3} + e_{23}\\\\\n",
    "  d_{24} & = d_{2} - d_{4} + e_{24}\\\\\n",
    "  \\vdots \\\\\n",
    "  \\label{eq:lsq} \\tag{1}\n",
    "\\end{eqnarray}\n",
    "$$\n",
    "\n",
    "The $d_{i}$ are shifts that we would apply to image $i$ (separately for $x$ and $y$) and the $e_{ij}$ are (unknown) errors of the $d_{ij}s$.\n",
    "The goal is to obtain $d_{i}s$ that satisfy *all* equations of (1) simultanesously *as good as possible*. "
   ]
  },
  {
   "cell_type": "markdown",
   "metadata": {},
   "source": [
    "### Subtask 4.1\n",
    "Please make clear to yourself that estimating the $d_{i}s$ can be formulated as a classical *Linear Least Squares Problem*; see also the next subtask. You already solved many of those in your Lab experiments or/and you learned about it in your math courses. You have measurements $d_{ij}$ with (not exactly known) errors and many equations for the unknowns $d_{i}$.\n",
    "\n",
    "To show you better that you already know this sort of problem: A classical physics experiment is to estimate velocoty and starting point of a car undergoing a uniform motion, i.e. to estimate parameters of the relation $s=v\\cdot t + s_0$. You typically have many mesurements of $t$ and $s$ (with errors) and you estimate $v$ and $s_0$ with a *fit* (a Linear Least-Squares problem!). Our task at hand is very similar!\n",
    "\n",
    "Please discuss, why the system (1) above cannot be solved uniquely in the *Least-Squares sense*. To be able to do so, you need to add another equation to the system. There are many possibilities to do so. Just write down why you make a certain choice.\n",
    "\n",
    "If you have difficulties with this task at this stage, come back to it after the next subtask."
   ]
  },
  {
   "cell_type": "markdown",
   "metadata": {},
   "source": [
    "### Subtask 4.2\n",
    "For clarity, we discuss the general case of the equation system $(1)$ above in the special case of three catalogues. In that case, the three equations:\n",
    "$$\n",
    "\\begin{eqnarray*}\n",
    "  d_{12} & = d_{1} - d_{2} + e_{12}\\\\\n",
    "  d_{13} & = d_{1} - d_{3} + e_{13}\\\\\n",
    "  d_{23} & = d_{2} - d_{3} + e_{23}\\\\\n",
    "  \\label{eq:three_cat} \\tag{2}\n",
    "\\end{eqnarray*}\n",
    "$$\n",
    "can be written in matrix form $Ax - b = e$ with:\n",
    "$$\n",
    "A=\n",
    "\\begin{pmatrix}\n",
    "1 & -1 & 0 \\\\\n",
    "1 & 0 & -1 \\\\\n",
    "0 & 1 & -1 \\\\\n",
    "\\end{pmatrix};\n",
    "x=\n",
    "\\begin{pmatrix}\n",
    "d_{1} \\\\\n",
    "d_{2} \\\\\n",
    "d_{3} \\\\\n",
    "\\end{pmatrix};\n",
    "b =\n",
    "\\begin{pmatrix}\n",
    "d_{12} \\\\\n",
    "d_{13} \\\\\n",
    "d_{23} \\\\\n",
    "\\end{pmatrix};\n",
    "e =\n",
    "\\begin{pmatrix}\n",
    "e_{12} \\\\\n",
    "e_{13} \\\\\n",
    "e_{23} \\\\\n",
    "\\end{pmatrix};\n",
    "\\label{eq:matrix} \\tag{3}\n",
    "$$"
   ]
  },
  {
   "cell_type": "markdown",
   "metadata": {},
   "source": [
    "The Least-Squares technique (or a data-fit) now chooses the $x$ (or the $d_{i}s$) which minimise the Euclidean norm of $e$:\n",
    "$$\n",
    "\\text{min}\\; ||e||_{2}^{2} = \\text{min}\\; ||Ax - b||_{2}^{2},\n",
    "$$\n",
    "where $||\\cdot ||$ is the euclidean norm."
   ]
  },
  {
   "cell_type": "markdown",
   "metadata": {},
   "source": [
    "The solution to this problem is given by the *normal equations*:\n",
    "$$\n",
    "(A^T A) x = A^T b.\n",
    "\\label{eq:normal_eq} \\tag{4}\n",
    "$$"
   ]
  },
  {
   "cell_type": "markdown",
   "metadata": {},
   "source": [
    "This is a system of *normal linear equations* which you know very well from Linear Algebra. \n",
    "Write down the matrix $A^T A$ for the case of eq. (2) and show that it is a singular matrix. This is the mathematical reason for the argument that you provided in subtask 4.1. Add your choice of an additional equation to the system of (2) and show that (4) now will give a unique solution to the problem."
   ]
  },
  {
   "cell_type": "markdown",
   "metadata": {},
   "source": [
    "### Subtask 4.3"
   ]
  },
  {
   "cell_type": "markdown",
   "metadata": {},
   "source": [
    "Implement the algorithm of subtask 4.2 to solve the offset problem for the six catalogues `image013269.asc .. image013274.asc`. Start your code with a list containing the locations of the involved catalogues. Your program needs to handle the genral case when an arbitrary amount of catalogues ($\\geq 2$) is put into that list, i.e. your program should not work only for the special case of six catalogues. Finally, plot in a scatter plot the offset pattern for the six observations.\n",
    "\n",
    "**Hints:** (1) Note that you have to solve a system of equations (2) for each of the $x-$ and $y-$coordinates; (2) How many equations do you need if you have $n$ catalogues?; (3) You can use loops to obtain the $d_{ij}s$ and to build up matrix $A$ and vector $b$; (4) You do not need to plot all the histograms - you should do so in the beginning to test your program though. Have a look at the `numpy.histogram` function. It is equivalent to `plt.histogram` but it does not plot the histogram. (5) Have a look at the `numpy.linalg.lstsq` function. You can directly feed into that function the matrx $A$ and vector $b$ from eq. (3). There is no need for you to explicitely build and solve the normal equations from eq. (4)."
   ]
  },
  {
   "cell_type": "code",
   "execution_count": null,
   "metadata": {},
   "outputs": [
    {
     "name": "stdin",
     "output_type": "stream",
     "text": [
      "len(data) 15\n"
     ]
    },
    {
     "name": "stdout",
     "output_type": "stream",
     "text": [
      " Coefficient [ 1 ,  1 ] ? "
     ]
    },
    {
     "name": "stdin",
     "output_type": "stream",
     "text": [
      " 6\n"
     ]
    },
    {
     "name": "stdout",
     "output_type": "stream",
     "text": [
      " Coefficient [ 1 ,  2 ] ? "
     ]
    },
    {
     "name": "stdin",
     "output_type": "stream",
     "text": [
      " 90\n"
     ]
    },
    {
     "name": "stdout",
     "output_type": "stream",
     "text": [
      " Coefficient [ 1 ,  3 ] ? "
     ]
    }
   ],
   "source": [
    "import numpy as np\n",
    "m = int(input(\"len(data)\"))\n",
    "n = m\n",
    "\n",
    "mat_a = []\n",
    "mat_b = []\n",
    "\n",
    "# Saisie des coefficients - matrice A\n",
    "#print (\"\\n\")\n",
    "#print (\" Saisie des coefficients – Matrice [A] :\")\n",
    "for i in range (0,n):\n",
    "    mat_a.append([])\n",
    "for i in range (0,m):\n",
    "    for j in range (0,n):\n",
    "        mat_a[i].append(j)\n",
    "        mat_a[i][j]=0\n",
    "for i in range (0,m):\n",
    "    for j in range (0,n):\n",
    "        print (\" Coefficient [\", i+1,\", \",j+1, \"] ?\", end = \" \")\n",
    "        mat_a[i][j] = eval(input())"
   ]
  },
  {
   "cell_type": "code",
   "execution_count": null,
   "metadata": {},
   "outputs": [],
   "source": []
  },
  {
   "cell_type": "code",
   "execution_count": null,
   "metadata": {},
   "outputs": [],
   "source": []
  },
  {
   "cell_type": "code",
   "execution_count": null,
   "metadata": {},
   "outputs": [],
   "source": []
  },
  {
   "cell_type": "code",
   "execution_count": null,
   "metadata": {},
   "outputs": [],
   "source": []
  }
 ],
 "metadata": {
  "kernelspec": {
   "display_name": "Python 3",
   "language": "python",
   "name": "python3"
  },
  "language_info": {
   "codemirror_mode": {
    "name": "ipython",
    "version": 3
   },
   "file_extension": ".py",
   "mimetype": "text/x-python",
   "name": "python",
   "nbconvert_exporter": "python",
   "pygments_lexer": "ipython3",
   "version": "3.7.3"
  }
 },
 "nbformat": 4,
 "nbformat_minor": 4
}
