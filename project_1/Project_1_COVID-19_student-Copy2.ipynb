{
 "cells": [
  {
   "cell_type": "markdown",
   "metadata": {},
   "source": [
    "# Project 1 - COVID-19 Data Analysis"
   ]
  },
  {
   "cell_type": "markdown",
   "metadata": {},
   "source": [
    "**Project deadline:** This project is due for submission on Monday, 25.05.2020. You receive details on the submission process from your tutor!"
   ]
  },
  {
   "cell_type": "markdown",
   "metadata": {},
   "source": [
    "**PLEASE READ THIS NOTEBOOK COMPLETELY BEFORE YOU START TO WORK ON THE PROJECT!**"
   ]
  },
  {
   "cell_type": "markdown",
   "metadata": {},
   "source": [
    "## About the Projects\n",
    "- You will get one project approximately every other week.\n",
    "- Besides the homework-assignmentts, you need to solve the projects in order to pass the course. Your final course mark consists of the mean of your project marks. We aim to hand-out six projects during the term and we do not consider the worst project mark for your final course mark. Projects that you do not hand in are counted with a mark of 4.\n",
    "- The projects need to be submitted to your tutor and he will give you necessary information on the submission process!\n",
    "- **In contrast to the homework exercises, each student must hand in an own solution for the projects! Of course you can and should discuss problems with each other! However, you must not use code or code-parts from your student peers in your project solutions!**\n",
    "\n",
    "**Note: The tutors, Oliver and I are very happy to help you out with difficulties you might have with the project tasks! You can ask questions any time but please do so well in advance of the deadlines!**"
   ]
  },
  {
   "cell_type": "markdown",
   "metadata": {},
   "source": [
    "## Analysis of public COVID-19 data"
   ]
  },
  {
   "cell_type": "markdown",
   "metadata": {},
   "source": [
    "In this first project, we would like to demonstrate that you can do advanced data analysis already with your current knowledge and with just a few lines of `Python`-code. Nevertheless the notebook contains some more advanced technical aspects to load data from the WWW and to prepare them for further analysis. Please do not worry if you do not fully understand all details of that part right now. We will cover those aspects later in the term.\n",
    "\n",
    "We will do this project with a topic concerning all of us the moment, the COVID-19 pandemy. We will download publicly available data with a daily listing of new (known!) COVID-19 cases and new deaths due to the pandemy. The data set contains information on *all* countries with known COVID-19 cases. Your task will be to analyse the development of the pandemy and to check which countries currently do have a raising number of infectious COVID-19 patients.\n",
    "\n",
    "The data that we will use in this notebook are daily updated and published by the [European Centre for Disease Prevention and Control](https://www.ecdc.europa.eu/en/publications-data/download-todays-data-geographic-distribution-covid-19-cases-worldwide)."
   ]
  },
  {
   "cell_type": "code",
   "execution_count": null,
   "metadata": {},
   "outputs": [],
   "source": [
    "# We need some modules (Python libraries) in the following.\n",
    "# Usually, such modules are loaded in the first cell of a notebook.\n",
    "# The modules that we need concern loading the data and plotting\n",
    "# them later.\n",
    "\n",
    "# all plots should appear directly within the notebook\n",
    "%matplotlib inline\n",
    "\n",
    "# modules necessary for plotting\n",
    "import matplotlib.pyplot as plt\n",
    "\n",
    "# seaborn just makes plots look a bit nicer - not\n",
    "# absolutely necessary though.\n",
    "import seaborn as sns\n",
    "sns.set_style(\"whitegrid\")\n",
    "\n",
    "# modules to load the data. The Pandas module\n",
    "# is just needed for a quick data-loading demonstration at the\n",
    "# start of the Notebook. The corona_data module is self-made\n",
    "# to comfortably load and administrate the COVID-19 data.\n",
    "# To work correctly, a file named 'corona_data.py' must be\n",
    "# in the same directory as this notebook file!\n",
    "import pandas as pd\n",
    "import corona_data\n",
    "\n",
    "# module to make avilable data structures and routines\n",
    "# for numerics\n",
    "import numpy as np"
   ]
  },
  {
   "cell_type": "markdown",
   "metadata": {},
   "source": [
    "## Loading data"
   ]
  },
  {
   "cell_type": "markdown",
   "metadata": {},
   "source": [
    "### Data-loading demo with standard Python-modules"
   ]
  },
  {
   "cell_type": "markdown",
   "metadata": {},
   "source": [
    "One great feature of `Python` is the ability to load all kinds of standardised data-formats into memory - in most cases with a single command. The data can be located on your disk or on the Web. In the following, we directly load data from [this Web-address](https://opendata.ecdc.europa.eu/covid19/casedistribution/csv) (no need to separately download them)."
   ]
  },
  {
   "cell_type": "code",
   "execution_count": null,
   "metadata": {},
   "outputs": [],
   "source": [
    "# load COVID-19 data from the WEB with the pandas-modult\n",
    "data = pd.read_csv('https://opendata.ecdc.europa.eu/covid19/casedistribution/csv/', engine=\"python\")\n",
    "\n",
    "# Uncomment the following line if you want to see all lines\n",
    "# (more than 15000) and not only 10:\n",
    "#pd.set_option('display.max_rows', None)\n",
    "data"
   ]
  },
  {
   "cell_type": "markdown",
   "metadata": {},
   "source": [
    "The data lists among other quantities:\n",
    "- first column (dateRep): (reported) date\n",
    "- fifth column (cases): new confirmed COVID-19 cases at that date\n",
    "- sixth column (deaths): new deaths because of COVID-19 at that date\n",
    "- seventh column (countriesAndTerritories): country"
   ]
  },
  {
   "cell_type": "markdown",
   "metadata": {},
   "source": [
    "The file lists all data from the 31st of December 2019 up to-date for all countries with known COVID-19 cases. Which countries are listed? Such information can be retrieved easily and quickly."
   ]
  },
  {
   "cell_type": "code",
   "execution_count": null,
   "metadata": {},
   "outputs": [],
   "source": [
    "# list all countries reported in the data:\n",
    "#\n",
    "# The following line ensures that each country is reported once and that\n",
    "# the resulting list is sorted:\n",
    "countries = sorted((set(data['countriesAndTerritories'])))\n",
    "\n",
    "# we only print 5 countries as the list is very long. Just remove the brackets\n",
    "# if you want the full list:\n",
    "countries[0:3]\n"
   ]
  },
  {
   "cell_type": "markdown",
   "metadata": {},
   "source": [
    "### Data-loading for our project"
   ]
  },
  {
   "cell_type": "markdown",
   "metadata": {},
   "source": [
    "Although the above data-format can be used efficiently, it requires a longer sequence of commands to retrieve interesting time-sequence data for specific countries. Because we do not want to deal with those data-handling issues at the moment, I transfered this part of the code to a module `corona_data`. It reads the data and extracts the columns *cases* and *deaths* for a specific country. Furthermore, it removes all data before the 1st of March 2020. This date, we consider our *Day Zero* of the pandemy henceforth."
   ]
  },
  {
   "cell_type": "code",
   "execution_count": null,
   "metadata": {},
   "outputs": [],
   "source": [
    "# first read all the data into an own Corona class structure. This only\n",
    "# needs to be done only once within this notebook!\n",
    "corona = corona_data.CoronaData()\n",
    "\n",
    "# The countries listed are accessed as member variable of the Corona class.\n",
    "# We do not need them immediately but it comes in handy for your own tasks\n",
    "# below.\n",
    "countries = corona.countries\n"
   ]
  },
  {
   "cell_type": "code",
   "execution_count": null,
   "metadata": {},
   "outputs": [],
   "source": [
    "# now isolate interesting data for a specific country\n",
    "#countries = corona.countries\n",
    "country = 'Germany'\n",
    "\n",
    "# The structure 'corona[country]' contains a triple of numpy-arrays\n",
    "# with days, cases and deaths. We assign them to three variables\n",
    "# with 'simultaneous assignment'.\n",
    "day, cases, deaths = corona[country]\n",
    "\n",
    "print(day)\n",
    "print(cases)\n",
    "print(deaths)"
   ]
  },
  {
   "cell_type": "markdown",
   "metadata": {},
   "source": [
    "The three arrays have the following intuitive meaning: At day 0 (1st of March 2020), 54 new COVID-19 infections and zero new deaths were reported from Germany and so on. "
   ]
  },
  {
   "cell_type": "markdown",
   "metadata": {},
   "source": [
    "We now can make a first plot with the new cases against the day."
   ]
  },
  {
   "cell_type": "code",
   "execution_count": null,
   "metadata": {},
   "outputs": [],
   "source": [
    "\n",
    "# The following command alone is sufficient to create the plot\n",
    "plt.plot(day, cases)\n",
    "\n",
    "# The following commands label the axes and the plot\n",
    "plt.xlabel('day of COVID-19 pandemy')\n",
    "plt.ylabel('new COVID-19 cases')\n",
    "plt.title('Daily COVID-19 infections in India')"
   ]
  },
  {
   "cell_type": "markdown",
   "metadata": {},
   "source": [
    "## Your tasks"
   ]
  },
  {
   "cell_type": "markdown",
   "metadata": {},
   "source": [
    "**Note:** Please continue this notebook and do all the following tasks within that notebook. Please comment appropriately all code-blocks and perform the necessary discussions of your results in Markup cells. All plots must have appropriate axes-labels and a title! Your project submission will consist of the modified notebook."
   ]
  },
  {
   "cell_type": "markdown",
   "metadata": {},
   "source": [
    "The plot that we just created tells us that *new* infections have a decreasing trend. But to understand better the current state of the pandemy, we want to look at additional quantities.\n",
    "\n",
    "1. Plot the *total accumulated number* of COVID-19 cases against the day. Give a short discussion on that plot. What kind of curve do you expect for a pandemy that can spread freely?  What effect do the current measures and restrictions in Germany (e.g. social distancing) have on the curve? Discuss this with the knowledge that drastic limitations on our life (closure of schools etc.) took effect in Germany on the 16th of March. What will the curve look like when the pandemy is over?\n",
    "   \n",
    "   **Hint:** Have a look at the `numpy` `cumsum`-function.\n",
    "   \n",
    "2. A very important quantity to decide whether current measures to confine the pandemy can be relaxed is the *development of the number of people who still can infect others (the infectious population)*. The main purpose of all COVID-19 restrictions is to realise a decreasing trend of that number! This quantity can be obtained by *the number of infected people minus those who died and minus those who recovered from COVID-19*. It is implicitely assumed in the following that recovered patients are immune against COVID-19.\n",
    "\n",
    "   From the required information *only* the number of dead people is certain. The number of infected people is uncertain because we only have *reported* cases and we do not know how many people are infected but were not (yet) tested. Even more uncertain is the number of recovered patients and we entirely rely on an estimate for it. Furthermore, there are *many* definitions of *recoverd patients* around. The one coming closest to our procedure is the following: *A patient recovers if there are no symptoms 14-days after she was tested positively or after she left hospital.*\n",
    "   \n",
    "   Lacking further information, we define (overestimate) the number of recovered persons as follows: We consider everybody recovered who was positively tested more than 13-days ago and did not die.    \n",
    "   Given these assumptions, create a plot of the infectious population as a function of pandemy-day for Germany. Discuss that plot. Assuming, the government withdrew all CVID-19 restrictions today and people immediately behaved as before the crisis, how long would it take until the number of infectious patients reaches again its all-time maximum?\n",
    "   \n",
    "   **Hint:** `numpy` array-slicing!\n",
    "   \n",
    "3. Create a loop over all countries with confirmed COVID-19 cases - see the hint below. List those countries who currently still have a *raising* infectious population. Limit the analysis to countries with more than 5000 confirmed COVID-19 cases.\n",
    "\n",
    "   **Hint:** A raising infectious population means (for us) that the *derivative* of the plot from task (2) is positive today. \n",
    "   \n",
    "**Note:** I include sample plots for tasks 1 and 2 from the 28th of March to the materials of this project. This allows you to verify your solution.   "
   ]
  },
  {
   "cell_type": "code",
   "execution_count": null,
   "metadata": {},
   "outputs": [],
   "source": [
    "# Hint to create a loop over all countries.\n",
    "#\n",
    "# The countries of known COVID-19 cases are stored in a so-called list.\n",
    "# A Python-list is, as the numpy-arrays, a container (in that case of strings)\n",
    "# whose elements can be accessed and iterated over in a very similar way:\n",
    "#for country in countries:\n",
    "    #print(country)"
   ]
  },
  {
   "cell_type": "code",
   "execution_count": null,
   "metadata": {},
   "outputs": [],
   "source": [
    "#Alternate method to calculate cumulative sum of cases in GERMANY\n",
    "tot_c=np.zeros((len(cases)), dtype=int) # total no. of cases in integer format (i initalize the array in order to store the no. of cases )\n",
    "j=0\n",
    "while j < len(cases):\n",
    "    tot_c[j]=cases[j] + tot_c[j-1]\n",
    "    j =j+1\n",
    "#print(tot_c)\n",
    "#plt.plot(day, tot_c)\n"
   ]
  },
  {
   "cell_type": "code",
   "execution_count": null,
   "metadata": {},
   "outputs": [],
   "source": [
    "#plot of the total cumulative cases with day\n",
    "plt.plot(day, np.cumsum(cases)) # cumsum command to calculate cumulative sum of cases in GERMANY\n",
    "plt.title(\"Total accumulated cases in Germany\")\n",
    "plt.xlabel(\"Day of pandemy\")\n",
    "plt.ylabel(\"Total accumulated cases\")"
   ]
  },
  {
   "cell_type": "markdown",
   "metadata": {},
   "source": [
    "In the above plot, there is a subsequent growth in the number of cases with each passing day but after some time the number of new cases have reduced substantially due to preventive measures taken by the public and the government.\n",
    "\n",
    "From the above plot of total cumulative cases v/s day we can clearly see that in the beginning there is an exponential growth in case numbers which can generally be expected when an infectious disease spreads unhindered.\n",
    "\n",
    "Over time with social distancing or government measures such as curfew, it led to fewer and fewer contacts between infected and non-infected persons, which led to a temporal decrease in the so-called reproduction rate which is clear from the plot above as it is tending to get flatter with time.\n",
    "When the pandemy gets over, the above plot will become flat i.e. the derivative of the plot will be zero."
   ]
  },
  {
   "cell_type": "code",
   "execution_count": null,
   "metadata": {},
   "outputs": [],
   "source": [
    "#First of all i begin with defining the COVID-19 infected people as a function of day, cases and death\n",
    "def func(day, cases, deaths):\n",
    "    overestimate=np.zeros(len(day)) # I create an array to save the data of no. of recovered people\n",
    "    infected_population=np.zeros(len(day)) #I create an array to save the data of no. of infected people\n",
    "     # we now make a loop in order to calculate the no. of infected people.  we will begin by eliminating people who have recovered and those who have died.\n",
    "    m=(np.cumsum(deaths))\n",
    "    n=np.cumsum( overestimate)\n",
    "    o=np.cumsum(cases)\n",
    "    for j in range(14, len(day)):\n",
    "        if j==14:\n",
    "            overestimate[j]=cases[j-14] - m[j]  \n",
    "        else:\n",
    "            overestimate[j]=cases[j-14] - deaths[j]\n",
    "  \n",
    "    infected_population=0 - n - deaths # remaining infected population\n",
    "    return infected_population\n",
    "y=func(day, cases, deaths)\n",
    "plt.plot(day, y)"
   ]
  },
  {
   "cell_type": "code",
   "execution_count": null,
   "metadata": {},
   "outputs": [],
   "source": []
  }
 ],
 "metadata": {
  "kernelspec": {
   "display_name": "Python 3",
   "language": "python",
   "name": "python3"
  },
  "language_info": {
   "codemirror_mode": {
    "name": "ipython",
    "version": 3
   },
   "file_extension": ".py",
   "mimetype": "text/x-python",
   "name": "python",
   "nbconvert_exporter": "python",
   "pygments_lexer": "ipython3",
   "version": "3.7.3"
  }
 },
 "nbformat": 4,
 "nbformat_minor": 4
}
