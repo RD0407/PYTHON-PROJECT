{
 "cells": [
  {
   "cell_type": "markdown",
   "metadata": {},
   "source": [
    "# Project 1 - COVID-19 Data Analysis"
   ]
  },
  {
   "cell_type": "markdown",
   "metadata": {},
   "source": [
    "**Project deadline:** This project is due for submission on Monday, 25.05.2020. You receive details on the submission process from your tutor!"
   ]
  },
  {
   "cell_type": "markdown",
   "metadata": {},
   "source": [
    "**PLEASE READ THIS NOTEBOOK COMPLETELY BEFORE YOU START TO WORK ON THE PROJECT!**"
   ]
  },
  {
   "cell_type": "markdown",
   "metadata": {},
   "source": [
    "## About the Projects\n",
    "- You will get one project approximately every other week.\n",
    "- Besides the homework-assignmentts, you need to solve the projects in order to pass the course. Your final course mark consists of the mean of your project marks. We aim to hand-out six projects during the term and we do not consider the worst project mark for your final course mark. Projects that you do not hand in are counted with a mark of 4.\n",
    "- The projects need to be submitted to your tutor and he will give you necessary information on the submission process!\n",
    "- **In contrast to the homework exercises, each student must hand in an own solution for the projects! Of course you can and should discuss problems with each other! However, you must not use code or code-parts from your student peers in your project solutions!**\n",
    "\n",
    "**Note: The tutors, Oliver and I are very happy to help you out with difficulties you might have with the project tasks! You can ask questions any time but please do so well in advance of the deadlines!**"
   ]
  },
  {
   "cell_type": "markdown",
   "metadata": {},
   "source": [
    "## Analysis of public COVID-19 data"
   ]
  },
  {
   "cell_type": "markdown",
   "metadata": {},
   "source": [
    "In this first project, we would like to demonstrate that you can do advanced data analysis already with your current knowledge and with just a few lines of `Python`-code. Nevertheless the notebook contains some more advanced technical aspects to load data from the WWW and to prepare them for further analysis. Please do not worry if you do not fully understand all details of that part right now. We will cover those aspects later in the term.\n",
    "\n",
    "We will do this project with a topic concerning all of us the moment, the COVID-19 pandemy. We will download publicly available data with a daily listing of new (known!) COVID-19 cases and new deaths due to the pandemy. The data set contains information on *all* countries with known COVID-19 cases. Your task will be to analyse the development of the pandemy and to check which countries currently do have a raising number of infectious COVID-19 patients.\n",
    "\n",
    "The data that we will use in this notebook are daily updated and published by the [European Centre for Disease Prevention and Control](https://www.ecdc.europa.eu/en/publications-data/download-todays-data-geographic-distribution-covid-19-cases-worldwide)."
   ]
  },
  {
   "cell_type": "code",
   "execution_count": 1,
   "metadata": {},
   "outputs": [],
   "source": [
    "# We need some modules (Python libraries) in the following.\n",
    "# Usually, such modules are loaded in the first cell of a notebook.\n",
    "# The modules that we need concern loading the data and plotting\n",
    "# them later.\n",
    "\n",
    "# all plots should appear directly within the notebook\n",
    "%matplotlib inline\n",
    "\n",
    "# modules necessary for plotting\n",
    "import matplotlib.pyplot as plt\n",
    "\n",
    "# seaborn just makes plots look a bit nicer - not\n",
    "# absolutely necessary though.\n",
    "import seaborn as sns\n",
    "sns.set_style(\"whitegrid\")\n",
    "\n",
    "# modules to load the data. The Pandas module\n",
    "# is just needed for a quick data-loading demonstration at the\n",
    "# start of the Notebook. The corona_data module is self-made\n",
    "# to comfortably load and administrate the COVID-19 data.\n",
    "# To work correctly, a file named 'corona_data.py' must be\n",
    "# in the same directory as this notebook file!\n",
    "import pandas as pd\n",
    "import corona_data\n",
    "\n",
    "# module to make avilable data structures and routines\n",
    "# for numerics\n",
    "import numpy as np"
   ]
  },
  {
   "cell_type": "markdown",
   "metadata": {},
   "source": [
    "## Loading data"
   ]
  },
  {
   "cell_type": "markdown",
   "metadata": {},
   "source": [
    "### Data-loading demo with standard Python-modules"
   ]
  },
  {
   "cell_type": "markdown",
   "metadata": {},
   "source": [
    "One great feature of `Python` is the ability to load all kinds of standardised data-formats into memory - in most cases with a single command. The data can be located on your disk or on the Web. In the following, we directly load data from [this Web-address](https://opendata.ecdc.europa.eu/covid19/casedistribution/csv) (no need to separately download them)."
   ]
  },
  {
   "cell_type": "code",
   "execution_count": 2,
   "metadata": {},
   "outputs": [
    {
     "data": {
      "text/html": [
       "<div>\n",
       "<style scoped>\n",
       "    .dataframe tbody tr th:only-of-type {\n",
       "        vertical-align: middle;\n",
       "    }\n",
       "\n",
       "    .dataframe tbody tr th {\n",
       "        vertical-align: top;\n",
       "    }\n",
       "\n",
       "    .dataframe thead th {\n",
       "        text-align: right;\n",
       "    }\n",
       "</style>\n",
       "<table border=\"1\" class=\"dataframe\">\n",
       "  <thead>\n",
       "    <tr style=\"text-align: right;\">\n",
       "      <th></th>\n",
       "      <th>dateRep</th>\n",
       "      <th>day</th>\n",
       "      <th>month</th>\n",
       "      <th>year</th>\n",
       "      <th>cases</th>\n",
       "      <th>deaths</th>\n",
       "      <th>countriesAndTerritories</th>\n",
       "      <th>geoId</th>\n",
       "      <th>countryterritoryCode</th>\n",
       "      <th>popData2018</th>\n",
       "      <th>continentExp</th>\n",
       "    </tr>\n",
       "  </thead>\n",
       "  <tbody>\n",
       "    <tr>\n",
       "      <th>0</th>\n",
       "      <td>25/05/2020</td>\n",
       "      <td>25</td>\n",
       "      <td>5</td>\n",
       "      <td>2020</td>\n",
       "      <td>584</td>\n",
       "      <td>2</td>\n",
       "      <td>Afghanistan</td>\n",
       "      <td>AF</td>\n",
       "      <td>AFG</td>\n",
       "      <td>37172386.0</td>\n",
       "      <td>Asia</td>\n",
       "    </tr>\n",
       "    <tr>\n",
       "      <th>1</th>\n",
       "      <td>24/05/2020</td>\n",
       "      <td>24</td>\n",
       "      <td>5</td>\n",
       "      <td>2020</td>\n",
       "      <td>782</td>\n",
       "      <td>11</td>\n",
       "      <td>Afghanistan</td>\n",
       "      <td>AF</td>\n",
       "      <td>AFG</td>\n",
       "      <td>37172386.0</td>\n",
       "      <td>Asia</td>\n",
       "    </tr>\n",
       "    <tr>\n",
       "      <th>2</th>\n",
       "      <td>23/05/2020</td>\n",
       "      <td>23</td>\n",
       "      <td>5</td>\n",
       "      <td>2020</td>\n",
       "      <td>540</td>\n",
       "      <td>12</td>\n",
       "      <td>Afghanistan</td>\n",
       "      <td>AF</td>\n",
       "      <td>AFG</td>\n",
       "      <td>37172386.0</td>\n",
       "      <td>Asia</td>\n",
       "    </tr>\n",
       "    <tr>\n",
       "      <th>3</th>\n",
       "      <td>22/05/2020</td>\n",
       "      <td>22</td>\n",
       "      <td>5</td>\n",
       "      <td>2020</td>\n",
       "      <td>531</td>\n",
       "      <td>6</td>\n",
       "      <td>Afghanistan</td>\n",
       "      <td>AF</td>\n",
       "      <td>AFG</td>\n",
       "      <td>37172386.0</td>\n",
       "      <td>Asia</td>\n",
       "    </tr>\n",
       "    <tr>\n",
       "      <th>4</th>\n",
       "      <td>21/05/2020</td>\n",
       "      <td>21</td>\n",
       "      <td>5</td>\n",
       "      <td>2020</td>\n",
       "      <td>492</td>\n",
       "      <td>9</td>\n",
       "      <td>Afghanistan</td>\n",
       "      <td>AF</td>\n",
       "      <td>AFG</td>\n",
       "      <td>37172386.0</td>\n",
       "      <td>Asia</td>\n",
       "    </tr>\n",
       "    <tr>\n",
       "      <th>...</th>\n",
       "      <td>...</td>\n",
       "      <td>...</td>\n",
       "      <td>...</td>\n",
       "      <td>...</td>\n",
       "      <td>...</td>\n",
       "      <td>...</td>\n",
       "      <td>...</td>\n",
       "      <td>...</td>\n",
       "      <td>...</td>\n",
       "      <td>...</td>\n",
       "      <td>...</td>\n",
       "    </tr>\n",
       "    <tr>\n",
       "      <th>19243</th>\n",
       "      <td>25/03/2020</td>\n",
       "      <td>25</td>\n",
       "      <td>3</td>\n",
       "      <td>2020</td>\n",
       "      <td>0</td>\n",
       "      <td>0</td>\n",
       "      <td>Zimbabwe</td>\n",
       "      <td>ZW</td>\n",
       "      <td>ZWE</td>\n",
       "      <td>14439018.0</td>\n",
       "      <td>Africa</td>\n",
       "    </tr>\n",
       "    <tr>\n",
       "      <th>19244</th>\n",
       "      <td>24/03/2020</td>\n",
       "      <td>24</td>\n",
       "      <td>3</td>\n",
       "      <td>2020</td>\n",
       "      <td>0</td>\n",
       "      <td>1</td>\n",
       "      <td>Zimbabwe</td>\n",
       "      <td>ZW</td>\n",
       "      <td>ZWE</td>\n",
       "      <td>14439018.0</td>\n",
       "      <td>Africa</td>\n",
       "    </tr>\n",
       "    <tr>\n",
       "      <th>19245</th>\n",
       "      <td>23/03/2020</td>\n",
       "      <td>23</td>\n",
       "      <td>3</td>\n",
       "      <td>2020</td>\n",
       "      <td>0</td>\n",
       "      <td>0</td>\n",
       "      <td>Zimbabwe</td>\n",
       "      <td>ZW</td>\n",
       "      <td>ZWE</td>\n",
       "      <td>14439018.0</td>\n",
       "      <td>Africa</td>\n",
       "    </tr>\n",
       "    <tr>\n",
       "      <th>19246</th>\n",
       "      <td>22/03/2020</td>\n",
       "      <td>22</td>\n",
       "      <td>3</td>\n",
       "      <td>2020</td>\n",
       "      <td>1</td>\n",
       "      <td>0</td>\n",
       "      <td>Zimbabwe</td>\n",
       "      <td>ZW</td>\n",
       "      <td>ZWE</td>\n",
       "      <td>14439018.0</td>\n",
       "      <td>Africa</td>\n",
       "    </tr>\n",
       "    <tr>\n",
       "      <th>19247</th>\n",
       "      <td>21/03/2020</td>\n",
       "      <td>21</td>\n",
       "      <td>3</td>\n",
       "      <td>2020</td>\n",
       "      <td>1</td>\n",
       "      <td>0</td>\n",
       "      <td>Zimbabwe</td>\n",
       "      <td>ZW</td>\n",
       "      <td>ZWE</td>\n",
       "      <td>14439018.0</td>\n",
       "      <td>Africa</td>\n",
       "    </tr>\n",
       "  </tbody>\n",
       "</table>\n",
       "<p>19248 rows × 11 columns</p>\n",
       "</div>"
      ],
      "text/plain": [
       "          dateRep  day  month  year  cases  deaths countriesAndTerritories  \\\n",
       "0      25/05/2020   25      5  2020    584       2             Afghanistan   \n",
       "1      24/05/2020   24      5  2020    782      11             Afghanistan   \n",
       "2      23/05/2020   23      5  2020    540      12             Afghanistan   \n",
       "3      22/05/2020   22      5  2020    531       6             Afghanistan   \n",
       "4      21/05/2020   21      5  2020    492       9             Afghanistan   \n",
       "...           ...  ...    ...   ...    ...     ...                     ...   \n",
       "19243  25/03/2020   25      3  2020      0       0                Zimbabwe   \n",
       "19244  24/03/2020   24      3  2020      0       1                Zimbabwe   \n",
       "19245  23/03/2020   23      3  2020      0       0                Zimbabwe   \n",
       "19246  22/03/2020   22      3  2020      1       0                Zimbabwe   \n",
       "19247  21/03/2020   21      3  2020      1       0                Zimbabwe   \n",
       "\n",
       "      geoId countryterritoryCode  popData2018 continentExp  \n",
       "0        AF                  AFG   37172386.0         Asia  \n",
       "1        AF                  AFG   37172386.0         Asia  \n",
       "2        AF                  AFG   37172386.0         Asia  \n",
       "3        AF                  AFG   37172386.0         Asia  \n",
       "4        AF                  AFG   37172386.0         Asia  \n",
       "...     ...                  ...          ...          ...  \n",
       "19243    ZW                  ZWE   14439018.0       Africa  \n",
       "19244    ZW                  ZWE   14439018.0       Africa  \n",
       "19245    ZW                  ZWE   14439018.0       Africa  \n",
       "19246    ZW                  ZWE   14439018.0       Africa  \n",
       "19247    ZW                  ZWE   14439018.0       Africa  \n",
       "\n",
       "[19248 rows x 11 columns]"
      ]
     },
     "execution_count": 2,
     "metadata": {},
     "output_type": "execute_result"
    }
   ],
   "source": [
    "# load COVID-19 data from the WEB with the pandas-modult\n",
    "data = pd.read_csv('https://opendata.ecdc.europa.eu/covid19/casedistribution/csv/', engine=\"python\")\n",
    "\n",
    "# Uncomment the following line if you want to see all lines\n",
    "# (more than 15000) and not only 10:\n",
    "#pd.set_option('display.max_rows', None)\n",
    "data"
   ]
  },
  {
   "cell_type": "markdown",
   "metadata": {},
   "source": [
    "The data lists among other quantities:\n",
    "- first column (dateRep): (reported) date\n",
    "- fifth column (cases): new confirmed COVID-19 cases at that date\n",
    "- sixth column (deaths): new deaths because of COVID-19 at that date\n",
    "- seventh column (countriesAndTerritories): country"
   ]
  },
  {
   "cell_type": "markdown",
   "metadata": {},
   "source": [
    "The file lists all data from the 31st of December 2019 up to-date for all countries with known COVID-19 cases. Which countries are listed? Such information can be retrieved easily and quickly."
   ]
  },
  {
   "cell_type": "code",
   "execution_count": 3,
   "metadata": {},
   "outputs": [
    {
     "data": {
      "text/plain": [
       "['Afghanistan', 'Albania', 'Algeria', 'Andorra', 'Angola']"
      ]
     },
     "execution_count": 3,
     "metadata": {},
     "output_type": "execute_result"
    }
   ],
   "source": [
    "# list all countries reported in the data:\n",
    "#\n",
    "# The following line ensures that each country is reported once and that\n",
    "# the resulting list is sorted:\n",
    "countries = sorted((set(data['countriesAndTerritories'])))\n",
    "\n",
    "# we only print 5 countries as the list is very long. Just remove the brackets\n",
    "# if you want the full list:\n",
    "countries[0:5]"
   ]
  },
  {
   "cell_type": "markdown",
   "metadata": {},
   "source": [
    "### Data-loading for our project"
   ]
  },
  {
   "cell_type": "markdown",
   "metadata": {},
   "source": [
    "Although the above data-format can be used efficiently, it requires a longer sequence of commands to retrieve interesting time-sequence data for specific countries. Because we do not want to deal with those data-handling issues at the moment, I transfered this part of the code to a module `corona_data`. It reads the data and extracts the columns *cases* and *deaths* for a specific country. Furthermore, it removes all data before the 1st of March 2020. This date, we consider our *Day Zero* of the pandemy henceforth."
   ]
  },
  {
   "cell_type": "code",
   "execution_count": 4,
   "metadata": {},
   "outputs": [],
   "source": [
    "# first read all the data into an own Corona class structure. This only\n",
    "# needs to be done only once within this notebook!\n",
    "corona = corona_data.CoronaData()\n",
    "\n",
    "# The countries listed are accessed as member variable of the Corona class.\n",
    "# We do not need them immediately but it comes in handy for your own tasks\n",
    "# below.\n",
    "countries = corona.countries"
   ]
  },
  {
   "cell_type": "code",
   "execution_count": 5,
   "metadata": {},
   "outputs": [
    {
     "data": {
      "text/plain": [
       "[<matplotlib.lines.Line2D at 0x7fcf74644c18>]"
      ]
     },
     "execution_count": 5,
     "metadata": {},
     "output_type": "execute_result"
    },
    {
     "data": {
      "image/png": "[encoded data removed]",
      "text/plain": [
       "<Figure size 432x288 with 1 Axes>"
      ]
     },
     "metadata": {
      "needs_background": "light"
     },
     "output_type": "display_data"
    }
   ],
   "source": [
    "# now isolate interesting data for a specific country\n",
    "countries = corona.countries\n",
    "country = ''\n",
    "\n",
    "# The structure 'corona[country]' contains a triple of numpy-arrays\n",
    "# with days, cases and deaths. We assign them to three variables\n",
    "# with 'simultaneous assignment'.\n",
    "day, cases, deaths = corona[country]\n",
    "\n",
    "#print(day)\n",
    "#print(cases)\n",
    "\n",
    "#print(deaths)\n",
    "#b=np.subtract(cases, deaths)\n",
    "#i=0\n",
    "#while i <= len(cases):\n",
    " #   b=cases[i]-deaths[i]\n",
    "  #  i+=1\n",
    "#print(b)\n",
    "#Axes.set_xlim(self, left=None, right=None, emit=True, auto=False, *, xmin=None, xmax=None)\n",
    "plt.plot(day,cases)\n",
    "#plt.xlim(0,30)\n",
    "#plt.ylim(0,50000)\n",
    "#plt.plot(day,cases)\n",
    "#c=list(enumerate((cases)))\n",
    "#print(c)\n",
    "#e=max(cases)\n",
    "#d=np.where(cases== e)\n",
    "#print(d)\n",
    "#print(e)"
   ]
  },
  {
   "cell_type": "code",
   "execution_count": 6,
   "metadata": {},
   "outputs": [
    {
     "ename": "SyntaxError",
     "evalue": "invalid syntax (<ipython-input-6-29471c192df0>, line 1)",
     "output_type": "error",
     "traceback": [
      "\u001b[0;36m  File \u001b[0;32m\"<ipython-input-6-29471c192df0>\"\u001b[0;36m, line \u001b[0;32m1\u001b[0m\n\u001b[0;31m    so we can say since we se from the plot that the maximum no. of cases occur after 27 days so we can say that it will take atleast that much time to reach max infection again.....\u001b[0m\n\u001b[0m        ^\u001b[0m\n\u001b[0;31mSyntaxError\u001b[0m\u001b[0;31m:\u001b[0m invalid syntax\n"
     ]
    }
   ],
   "source": [
    " so we can say since we se from the plot that the maximum no. of cases occur after 27 days so we can say that it will take atleast that much time to reach max infection again....."
   ]
  },
  {
   "cell_type": "markdown",
   "metadata": {},
   "source": [
    "The three arrays have the following intuitive meaning: At day 0 (1st of March 2020), 54 new COVID-19 infections and zero new deaths were reported from Germany and so on. "
   ]
  },
  {
   "cell_type": "markdown",
   "metadata": {},
   "source": [
    "We now can make a first plot with the new cases against the day."
   ]
  },
  {
   "cell_type": "code",
   "execution_count": null,
   "metadata": {},
   "outputs": [],
   "source": [
    "# The following command alone is sufficient to create the plot\n",
    "plt.plot(day, cases)\n",
    "\n",
    "# The following commands label the axes and the plot\n",
    "plt.xlabel('day of COVID-19 pandemy')\n",
    "plt.ylabel('new COVID-19 cases')\n",
    "plt.title('Daily COVID-19 infections in India')"
   ]
  },
  {
   "cell_type": "markdown",
   "metadata": {},
   "source": [
    "## Your tasks"
   ]
  },
  {
   "cell_type": "markdown",
   "metadata": {},
   "source": [
    "**Note:** Please continue this notebook and do all the following tasks within that notebook. Please comment appropriately all code-blocks and perform the necessary discussions of your results in Markup cells. All plots must have appropriate axes-labels and a title! Your project submission will consist of the modified notebook."
   ]
  },
  {
   "cell_type": "markdown",
   "metadata": {},
   "source": [
    "The plot that we just created tells us that *new* infections have a decreasing trend. But to understand better the current state of the pandemy, we want to look at additional quantities.\n",
    "\n",
    "1. Plot the *total accumulated number* of COVID-19 cases against the day. Give a short discussion on that plot. What kind of curve do you expect for a pandemy that can spread freely?  What effect do the current measures and restrictions in Germany (e.g. social distancing) have on the curve? Discuss this with the knowledge that drastic limitations on our life (closure of schools etc.) took effect in Germany on the 16th of March. What will the curve look like when the pandemy is over?\n",
    "   \n",
    "   **Hint:** Have a look at the `numpy` `cumsum`-function.\n",
    "   \n",
    "2. A very important quantity to decide whether current measures to confine the pandemy can be relaxed is the *development of the number of people who still can infect others (the infectious population)*. The main purpose of all COVID-19 restrictions is to realise a decreasing trend of that number! This quantity can be obtained by *the number of infected people minus those who died and minus those who recovered from COVID-19*. It is implicitely assumed in the following that recovered patients are immune against COVID-19.\n",
    "\n",
    "   From the required information *only* the number of dead people is certain. The number of infected people is uncertain because we only have *reported* cases and we do not know how many people are infected but were not (yet) tested. Even more uncertain is the number of recovered patients and we entirely rely on an estimate for it. Furthermore, there are *many* definitions of *recoverd patients* around. The one coming closest to our procedure is the following: *A patient recovers if there are no symptoms 14-days after she was tested positively or after she left hospital.*\n",
    "   \n",
    "   Lacking further information, we define (overestimate) the number of recovered persons as follows: We consider everybody recovered who was positively tested more than 13-days ago and did not die.    \n",
    "   Given these assumptions, create a plot of the infectious population as a function of pandemy-day for Germany. Discuss that plot. Assuming, the government withdrew all CVID-19 restrictions today and people immediately behaved as before the crisis, how long would it take until the number of infectious patients reaches again its all-time maximum?\n",
    "   \n",
    "   **Hint:** `numpy` array-slicing!\n",
    "   \n",
    "3. Create a loop over all countries with confirmed COVID-19 cases - see the hint below. List those countries who currently still have a *raising* infectious population. Limit the analysis to countries with more than 5000 confirmed COVID-19 cases.\n",
    "\n",
    "   **Hint:** A raising infectious population means (for us) that the *derivative* of the plot from task (2) is positive today. \n",
    "   \n",
    "**Note:** I include sample plots for tasks 1 and 2 from the 28th of March to the materials of this project. This allows you to verify your solution.   "
   ]
  },
  {
   "cell_type": "code",
   "execution_count": null,
   "metadata": {},
   "outputs": [],
   "source": [
    "# Hint to create a loop over all countries.\n",
    "#\n",
    "# The countries of known COVID-19 cases are stored in a so-called list.\n",
    "# A Python-list is, as the numpy-arrays, a container (in that case of strings)\n",
    "# whose elements can be accessed and iterated over in a very similar way:\n",
    "#for country in countries:\n",
    " #   print(country)"
   ]
  },
  {
   "cell_type": "code",
   "execution_count": 7,
   "metadata": {},
   "outputs": [
    {
     "ename": "SyntaxError",
     "evalue": "invalid syntax (<ipython-input-7-7f5a02b37385>, line 1)",
     "output_type": "error",
     "traceback": [
      "\u001b[0;36m  File \u001b[0;32m\"<ipython-input-7-7f5a02b37385>\"\u001b[0;36m, line \u001b[0;32m1\u001b[0m\n\u001b[0;31m    Pandemy that can spread freely - Gaussian\u001b[0m\n\u001b[0m               ^\u001b[0m\n\u001b[0;31mSyntaxError\u001b[0m\u001b[0;31m:\u001b[0m invalid syntax\n"
     ]
    }
   ],
   "source": [
    "Pandemy that can spread freely - Gaussian\n",
    "\n",
    "There is a subsequent decrese in the number of new cases.\n",
    "\n",
    "\n",
    "if infection leads to immunity, successful social distancing also means \n",
    "that more people remain susceptible to the disease. As a result, once \n",
    "we lift the social distancing measures, the virus will quite possibly \n",
    "spread again as easily as it did before the lockdowns.\n",
    "\n",
    "The pandemic wave, similarly, will be with us for the foreseeable future before it diminishes. \n",
    "But, depending on one’s geographic location and the policies in place, it will exhibit variegated\n",
    "dimensions and dynamics traveling through time and space. we must be prepared for at least another \n",
    "18 to 24 months of significant Covid-19 activity, with hot spots popping up periodically in diverse \n",
    "geographic areas.\n",
    "\n"
   ]
  },
  {
   "cell_type": "code",
   "execution_count": 8,
   "metadata": {},
   "outputs": [
    {
     "data": {
      "text/plain": [
       "178570"
      ]
     },
     "execution_count": 8,
     "metadata": {},
     "output_type": "execute_result"
    }
   ],
   "source": [
    "data.loc[(data['countriesAndTerritories'] == 'Germany'), 'cases'].sum()\n"
   ]
  },
  {
   "cell_type": "code",
   "execution_count": null,
   "metadata": {},
   "outputs": [],
   "source": []
  },
  {
   "cell_type": "code",
   "execution_count": 9,
   "metadata": {},
   "outputs": [],
   "source": [
    "#plt.plot(day, cases)"
   ]
  },
  {
   "cell_type": "code",
   "execution_count": 10,
   "metadata": {},
   "outputs": [
    {
     "name": "stdout",
     "output_type": "stream",
     "text": [
      "[]\n"
     ]
    },
    {
     "data": {
      "text/plain": [
       "Text(0, 0.5, 'total cases')"
      ]
     },
     "execution_count": 10,
     "metadata": {},
     "output_type": "execute_result"
    },
    {
     "data": {
      "image/png": "[encoded data removed]",
      "text/plain": [
       "<Figure size 432x288 with 1 Axes>"
      ]
     },
     "metadata": {
      "needs_background": "light"
     },
     "output_type": "display_data"
    }
   ],
   "source": [
    "#for india\n",
    "Y= np.cumsum(cases)\n",
    "print(Y)\n",
    "plt.plot(Y)\n",
    "plt.xlabel('day of COVID-19 pandemy')\n",
    "plt.ylabel('total cases')"
   ]
  },
  {
   "cell_type": "code",
   "execution_count": 11,
   "metadata": {},
   "outputs": [
    {
     "name": "stdout",
     "output_type": "stream",
     "text": [
      "countriesAndTerritories\n",
      "Afghanistan       10582\n",
      "Albania             998\n",
      "Algeria            8306\n",
      "Andorra             763\n",
      "Angola               69\n",
      "                  ...  \n",
      "Vietnam             325\n",
      "Western_Sahara        6\n",
      "Yemen               222\n",
      "Zambia              920\n",
      "Zimbabwe             56\n",
      "Name: cases, Length: 210, dtype: int64\n"
     ]
    }
   ],
   "source": [
    "#total cases of each country\n",
    "dff = data.groupby(\"countriesAndTerritories\").cases.sum()\n",
    "\n",
    "print(dff)"
   ]
  },
  {
   "cell_type": "code",
   "execution_count": 12,
   "metadata": {},
   "outputs": [
    {
     "name": "stdout",
     "output_type": "stream",
     "text": [
      "day\n",
      "1     161124\n",
      "2     173186\n",
      "3     162568\n",
      "4     164950\n",
      "5     168351\n",
      "6     154848\n",
      "7     169459\n",
      "8     176581\n",
      "9     181385\n",
      "10    183646\n",
      "11    173793\n",
      "12    161407\n",
      "13    181214\n",
      "14    166051\n",
      "15    187961\n",
      "16    192300\n",
      "17    192970\n",
      "18    181581\n",
      "19    188686\n",
      "20    198140\n",
      "21    207944\n",
      "22    228913\n",
      "23    207953\n",
      "24    222253\n",
      "25    210500\n",
      "26    154310\n",
      "27    145312\n",
      "28    133153\n",
      "29    138158\n",
      "30    137372\n",
      "31     65591\n",
      "Name: cases, dtype: int64\n"
     ]
    }
   ],
   "source": [
    "dff = data.groupby([\"day\"]).cases.sum()\n",
    "\n",
    "print(dff)"
   ]
  },
  {
   "cell_type": "code",
   "execution_count": 13,
   "metadata": {},
   "outputs": [
    {
     "name": "stdout",
     "output_type": "stream",
     "text": [
      "day\n",
      "1     161124\n",
      "2     173186\n",
      "3     162568\n",
      "4     164950\n",
      "5     168351\n",
      "6     154848\n",
      "7     169459\n",
      "8     176581\n",
      "9     181385\n",
      "10    183646\n",
      "11    173793\n",
      "12    161407\n",
      "13    181214\n",
      "14    166051\n",
      "15    187961\n",
      "16    192300\n",
      "17    192970\n",
      "18    181581\n",
      "19    188686\n",
      "20    198140\n",
      "21    207944\n",
      "22    228913\n",
      "23    207953\n",
      "24    222253\n",
      "25    210500\n",
      "26    154310\n",
      "27    145312\n",
      "28    133153\n",
      "29    138158\n",
      "30    137372\n",
      "31     65591\n",
      "Name: cases, dtype: int64\n"
     ]
    }
   ],
   "source": [
    "dff = data.groupby([\"day\"]).cases.sum()\n",
    "\n",
    "print(dff)"
   ]
  },
  {
   "cell_type": "code",
   "execution_count": 14,
   "metadata": {},
   "outputs": [
    {
     "data": {
      "text/plain": [
       "[<matplotlib.lines.Line2D at 0x7fcf7451c4a8>]"
      ]
     },
     "execution_count": 14,
     "metadata": {},
     "output_type": "execute_result"
    },
    {
     "data": {
      "image/png": "[encoded data removed]",
      "text/plain": [
       "<Figure size 432x288 with 1 Axes>"
      ]
     },
     "metadata": {
      "needs_background": "light"
     },
     "output_type": "display_data"
    }
   ],
   "source": [
    "plt.plot(day, np.cumsum(cases))"
   ]
  },
  {
   "cell_type": "code",
   "execution_count": 15,
   "metadata": {},
   "outputs": [],
   "source": [
    "for case in cases:\n",
    "    print(cases)"
   ]
  },
  {
   "cell_type": "code",
   "execution_count": 17,
   "metadata": {},
   "outputs": [
    {
     "name": "stdout",
     "output_type": "stream",
     "text": [
      "Afghanistan\n",
      "Algeria\n",
      "Argentina\n",
      "Armenia\n",
      "Australia\n",
      "Austria\n",
      "Bahrain\n",
      "Bangladesh\n",
      "Belarus\n",
      "Belgium\n",
      "Bolivia\n",
      "Brazil\n",
      "Canada\n",
      "Chile\n",
      "Colombia\n",
      "Czechia\n",
      "Denmark\n",
      "Dominican_Republic\n",
      "Ecuador\n",
      "Egypt\n",
      "Finland\n",
      "France\n",
      "Germany\n",
      "Ghana\n",
      "India\n",
      "Indonesia\n",
      "Iran\n",
      "Ireland\n",
      "Israel\n",
      "Italy\n",
      "Japan\n",
      "Kazakhstan\n",
      "Kuwait\n",
      "Malaysia\n",
      "Mexico\n",
      "Moldova\n",
      "Morocco\n",
      "Netherlands\n",
      "Nigeria\n",
      "Norway\n",
      "Oman\n",
      "Pakistan\n",
      "Panama\n",
      "Peru\n",
      "Philippines\n",
      "Poland\n",
      "Portugal\n",
      "Qatar\n",
      "Romania\n",
      "Russia\n",
      "Saudi_Arabia\n",
      "Serbia\n",
      "Singapore\n",
      "South_Africa\n",
      "South_Korea\n",
      "Spain\n",
      "Sweden\n",
      "Switzerland\n",
      "Turkey\n",
      "Ukraine\n",
      "United_Arab_Emirates\n",
      "United_Kingdom\n",
      "United_States_of_America\n",
      "63\n"
     ]
    }
   ],
   "source": [
    "corona = corona_data.CoronaData()\n",
    "\n",
    "# The countries listed are accessed as member variable of the Corona class.\n",
    "# We do not need them immediately but it comes in handy for your own tasks\n",
    "# below.\n",
    "countries = corona.countries\n",
    "n=0\n",
    "for country in countries:\n",
    "    day, cases, countries=corona[country]\n",
    "    if cases.sum() >= 5000:\n",
    "        print(country)\n",
    "        n+=1\n",
    "print(n)\n",
    "    "
   ]
  },
  {
   "cell_type": "code",
   "execution_count": 20,
   "metadata": {},
   "outputs": [
    {
     "name": "stdout",
     "output_type": "stream",
     "text": [
      "['Afghanistan', 'Australia', 'Benin', 'Bulgaria', 'Chad', 'Curaçao', 'El_Salvador', 'France', 'Grenada']\n"
     ]
    }
   ],
   "source": [
    "corona = corona_data.CoronaData()\n",
    "\n",
    "# The countries listed are accessed as member variable of the Corona class.\n",
    "# We do not need them immediately but it comes in handy for your own tasks\n",
    "# below.\n",
    "countries = corona.countries\n",
    "\n",
    "# Display some of them\n",
    "print(countries[0:81:10])"
   ]
  },
  {
   "cell_type": "code",
   "execution_count": 29,
   "metadata": {},
   "outputs": [
    {
     "name": "stdout",
     "output_type": "stream",
     "text": [
      "Afghanistan\n",
      "Albania\n",
      "Algeria\n",
      "Andorra\n",
      "Angola\n",
      "Anguilla\n",
      "Antigua_and_Barbuda\n",
      "Argentina\n",
      "Armenia\n",
      "Aruba\n",
      "Australia\n",
      "Austria\n",
      "Azerbaijan\n",
      "Bahamas\n",
      "Bahrain\n",
      "Bangladesh\n",
      "Barbados\n",
      "Belarus\n",
      "Belgium\n",
      "Belize\n",
      "Benin\n",
      "Bermuda\n",
      "Bhutan\n",
      "Bolivia\n",
      "Bonaire, Saint Eustatius and Saba\n",
      "Bosnia_and_Herzegovina\n",
      "Botswana\n",
      "Brazil\n",
      "British_Virgin_Islands\n",
      "Brunei_Darussalam\n",
      "Bulgaria\n",
      "Burkina_Faso\n",
      "Burundi\n",
      "Cambodia\n",
      "Cameroon\n",
      "Canada\n",
      "Cape_Verde\n",
      "Cases_on_an_international_conveyance_Japan\n",
      "Cayman_Islands\n",
      "Central_African_Republic\n",
      "Chad\n",
      "Chile\n",
      "China\n",
      "Colombia\n",
      "Comoros\n",
      "Congo\n",
      "Costa_Rica\n",
      "Cote_dIvoire\n",
      "Croatia\n",
      "Cuba\n",
      "Curaçao\n",
      "Cyprus\n",
      "Czechia\n",
      "Democratic_Republic_of_the_Congo\n",
      "Denmark\n",
      "Djibouti\n",
      "Dominica\n",
      "Dominican_Republic\n",
      "Ecuador\n",
      "Egypt\n",
      "El_Salvador\n",
      "Equatorial_Guinea\n",
      "Eritrea\n",
      "Estonia\n",
      "Eswatini\n",
      "Ethiopia\n",
      "Falkland_Islands_(Malvinas)\n",
      "Faroe_Islands\n",
      "Fiji\n",
      "Finland\n",
      "France\n",
      "French_Polynesia\n",
      "Gabon\n",
      "Gambia\n",
      "Georgia\n",
      "Germany\n",
      "Ghana\n",
      "Gibraltar\n",
      "Greece\n",
      "Greenland\n",
      "Grenada\n",
      "Guam\n",
      "Guatemala\n",
      "Guernsey\n",
      "Guinea\n",
      "Guinea_Bissau\n",
      "Guyana\n",
      "Haiti\n",
      "Holy_See\n",
      "Honduras\n",
      "Hungary\n",
      "Iceland\n",
      "India\n",
      "Indonesia\n",
      "Iran\n",
      "Iraq\n",
      "Ireland\n",
      "Isle_of_Man\n",
      "Israel\n",
      "Italy\n",
      "Jamaica\n",
      "Japan\n",
      "Jersey\n",
      "Jordan\n",
      "Kazakhstan\n",
      "Kenya\n",
      "Kosovo\n",
      "Kuwait\n",
      "Kyrgyzstan\n",
      "Laos\n",
      "Latvia\n",
      "Lebanon\n",
      "Lesotho\n",
      "Liberia\n",
      "Libya\n",
      "Liechtenstein\n",
      "Lithuania\n",
      "Luxembourg\n",
      "Madagascar\n",
      "Malawi\n",
      "Malaysia\n",
      "Maldives\n",
      "Mali\n",
      "Malta\n",
      "Mauritania\n",
      "Mauritius\n",
      "Mexico\n",
      "Moldova\n",
      "Monaco\n",
      "Mongolia\n",
      "Montenegro\n",
      "Montserrat\n",
      "Morocco\n",
      "Mozambique\n",
      "Myanmar\n",
      "Namibia\n",
      "Nepal\n",
      "Netherlands\n",
      "New_Caledonia\n",
      "New_Zealand\n",
      "Nicaragua\n",
      "Niger\n",
      "Nigeria\n",
      "North_Macedonia\n",
      "Northern_Mariana_Islands\n",
      "Norway\n",
      "Oman\n",
      "Pakistan\n",
      "Palestine\n",
      "Panama\n",
      "Papua_New_Guinea\n",
      "Paraguay\n",
      "Peru\n",
      "Philippines\n",
      "Poland\n",
      "Portugal\n",
      "Puerto_Rico\n",
      "Qatar\n",
      "Romania\n",
      "Russia\n",
      "Rwanda\n",
      "Saint_Kitts_and_Nevis\n",
      "Saint_Lucia\n",
      "Saint_Vincent_and_the_Grenadines\n",
      "San_Marino\n",
      "Sao_Tome_and_Principe\n",
      "Saudi_Arabia\n",
      "Senegal\n",
      "Serbia\n",
      "Seychelles\n",
      "Sierra_Leone\n",
      "Singapore\n",
      "Sint_Maarten\n",
      "Slovakia\n",
      "Slovenia\n",
      "Somalia\n",
      "South_Africa\n",
      "South_Korea\n",
      "South_Sudan\n",
      "Spain\n",
      "Sri_Lanka\n",
      "Sudan\n",
      "Suriname\n",
      "Sweden\n",
      "Switzerland\n",
      "Syria\n",
      "Taiwan\n",
      "Tajikistan\n",
      "Thailand\n",
      "Timor_Leste\n",
      "Togo\n",
      "Trinidad_and_Tobago\n",
      "Tunisia\n",
      "Turkey\n",
      "Turks_and_Caicos_islands\n",
      "Uganda\n",
      "Ukraine\n",
      "United_Arab_Emirates\n",
      "United_Kingdom\n",
      "United_Republic_of_Tanzania\n",
      "United_States_Virgin_Islands\n",
      "United_States_of_America\n",
      "Uruguay\n",
      "Uzbekistan\n",
      "Venezuela\n",
      "Vietnam\n",
      "Western_Sahara\n",
      "Yemen\n",
      "Zambia\n",
      "Zimbabwe\n"
     ]
    }
   ],
   "source": [
    "for i in countries:\n",
    "    day, cases, deaths = corona[i]\n",
    "    "
   ]
  },
  {
   "cell_type": "code",
   "execution_count": null,
   "metadata": {},
   "outputs": [],
   "source": []
  }
 ],
 "metadata": {
  "kernelspec": {
   "display_name": "Python 3",
   "language": "python",
   "name": "python3"
  },
  "language_info": {
   "codemirror_mode": {
    "name": "ipython",
    "version": 3
   },
   "file_extension": ".py",
   "mimetype": "text/x-python",
   "name": "python",
   "nbconvert_exporter": "python",
   "pygments_lexer": "ipython3",
   "version": "3.7.3"
  }
 },
 "nbformat": 4,
 "nbformat_minor": 4
}
